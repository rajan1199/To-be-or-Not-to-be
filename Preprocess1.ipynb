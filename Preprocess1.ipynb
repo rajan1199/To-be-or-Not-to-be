{
 "cells": [
  {
   "cell_type": "code",
   "execution_count": 1,
   "metadata": {},
   "outputs": [],
   "source": [
    "import numpy as np\n",
    "import pandas as pd\n",
    "from sklearn.ensemble import RandomForestClassifier\n",
    "from sklearn.metrics import accuracy_score as acc\n",
    "from mlxtend.feature_selection import SequentialFeatureSelector as sfs"
   ]
  },
  {
   "cell_type": "code",
   "execution_count": 2,
   "metadata": {},
   "outputs": [],
   "source": [
    "import matplotlib.pyplot as plt\n",
    "import seaborn as sns"
   ]
  },
  {
   "cell_type": "code",
   "execution_count": 3,
   "metadata": {
    "scrolled": true
   },
   "outputs": [],
   "source": [
    "names = pd.read_table('public_dat\\mimic_synthetic_feat.name',sep='\\n',header=None)"
   ]
  },
  {
   "cell_type": "code",
   "execution_count": 4,
   "metadata": {},
   "outputs": [
    {
     "data": {
      "text/plain": [
       "['SUBJECT_ID',\n",
       " 'HADM_ID',\n",
       " 'ADMITTIME',\n",
       " 'DISCHTIME',\n",
       " 'INSURANCE',\n",
       " 'LANGUAGE',\n",
       " 'RELIGION',\n",
       " 'MARITAL_STATUS',\n",
       " 'ETHNICITY',\n",
       " 'GENDER',\n",
       " 'AGE',\n",
       " 'HR_MIN_DAY1',\n",
       " 'HR_MAX_DAY1',\n",
       " 'HR_MEAN_DAY1',\n",
       " 'SYS_BP_MIN_DAY1',\n",
       " 'SYS_BP_MAX_DAY1',\n",
       " 'SYS_BP_MEAN_DAY1',\n",
       " 'DIAS_BP_MIN_DAY1',\n",
       " 'DIAS_BP_MAX_DAY1',\n",
       " 'DIAS_BP_MEAN_DAY1',\n",
       " 'MEAN_BP_MIN_DAY1',\n",
       " 'MEAN_BP_MAX_DAY1',\n",
       " 'MEAN_BP_MEAN_DAY1',\n",
       " 'RESP_RATE_MIN_DAY1',\n",
       " 'RESP_RATE_MAX_DAY1',\n",
       " 'RESP_RATE_MEAN_DAY1',\n",
       " 'TEMP_MIN_DAY1',\n",
       " 'TEMP_MAX_DAY1',\n",
       " 'TEMP_MEAN_DAY1',\n",
       " 'SPO2_MIN_DAY1',\n",
       " 'SPO2_MAX_DAY1',\n",
       " 'SPO2_MEAN_DAY1',\n",
       " 'GLUCOSE_MIN_DAY1',\n",
       " 'GLUCOSE_MAX_DAY1',\n",
       " 'GLUCOSE_MEAN_DAY1',\n",
       " 'HR_MIN_DAY2',\n",
       " 'HR_MAX_DAY2',\n",
       " 'HR_MEAN_DAY2',\n",
       " 'SYS_BP_MIN_DAY2',\n",
       " 'SYS_BP_MAX_DAY2',\n",
       " 'SYS_BP_MEAN_DAY2',\n",
       " 'DIAS_BP_MIN_DAY2',\n",
       " 'DIAS_BP_MAX_DAY2',\n",
       " 'DIAS_BP_MEAN_DAY2',\n",
       " 'MEAN_BP_MIN_DAY2',\n",
       " 'MEAN_BP_MAX_DAY2',\n",
       " 'MEAN_BP_MEAN_DAY2',\n",
       " 'RESP_RATE_MIN_DAY2',\n",
       " 'RESP_RATE_MAX_DAY2',\n",
       " 'RESP_RATE_MEAN_DAY2',\n",
       " 'TEMP_MIN_DAY2',\n",
       " 'TEMP_MAX_DAY2',\n",
       " 'TEMP_MEAN_DAY2',\n",
       " 'SPO2_MIN_DAY2',\n",
       " 'SPO2_MAX_DAY2',\n",
       " 'SPO2_MEAN_DAY2',\n",
       " 'GLUCOSE_MIN_DAY2',\n",
       " 'GLUCOSE_MAX_DAY2',\n",
       " 'GLUCOSE_MEAN_DAY2',\n",
       " 'ICU',\n",
       " 'Tuberculosis',\n",
       " 'Immuniz/scrn',\n",
       " 'AcuteMI',\n",
       " 'Coronathero',\n",
       " 'Chestpain',\n",
       " 'Pulmhartdx',\n",
       " 'Othheartdx',\n",
       " 'Conduction',\n",
       " 'Dysrhythmia',\n",
       " 'Cardiaarrst',\n",
       " 'chf;nonhp',\n",
       " 'AcuteCVD',\n",
       " 'Hd/nckcancr',\n",
       " 'Precereoccl',\n",
       " 'OtherCVD',\n",
       " 'TIA',\n",
       " 'LateeffCVD',\n",
       " 'Peripathero',\n",
       " 'Aneurysm',\n",
       " 'Artembolism',\n",
       " 'Otcirculdx',\n",
       " 'Phlebitis',\n",
       " 'Varicosevn',\n",
       " 'Esophcancer',\n",
       " 'Hemmorhoids',\n",
       " 'Othveindx',\n",
       " 'Pneumonia',\n",
       " 'Influenza',\n",
       " 'Tonsillitis',\n",
       " 'Bronchitis',\n",
       " 'Otuprspin',\n",
       " 'COPD',\n",
       " 'Asthma',\n",
       " 'Asppneumon',\n",
       " 'Stomchcancr',\n",
       " 'Pleurisy',\n",
       " 'Adltrespfl',\n",
       " 'Lungexternl',\n",
       " 'Othlowresp',\n",
       " 'Otupprresp',\n",
       " 'Intestinfct',\n",
       " 'Teethdx',\n",
       " 'Mouthdx',\n",
       " 'Esophgealdx',\n",
       " 'Gasduoulcer',\n",
       " 'Coloncancer',\n",
       " 'Gastritis',\n",
       " 'Otdxstomch',\n",
       " 'Appendicitis',\n",
       " 'Abdomhernia',\n",
       " 'Ulceratcol',\n",
       " 'Intobstruct',\n",
       " 'Diverticulos',\n",
       " 'Anal/rectal',\n",
       " 'Peritonitis',\n",
       " 'Biliarydx',\n",
       " 'Rctm/anusca',\n",
       " 'Othliverdx',\n",
       " 'Pancreasdx',\n",
       " 'GIhemorrhag',\n",
       " 'Gastroent',\n",
       " 'OtherGIdx',\n",
       " 'Nephritis',\n",
       " 'Acrenlfail',\n",
       " 'Chrrenfail',\n",
       " 'UTI',\n",
       " 'Liver/ibdca',\n",
       " 'Urinstone',\n",
       " 'Otdxkidney',\n",
       " 'Otdxbladdr',\n",
       " 'OtherGUdx',\n",
       " 'BPH',\n",
       " 'Infmalegen',\n",
       " 'Othmalegen',\n",
       " 'Breastdx',\n",
       " 'PID',\n",
       " 'Endometrios',\n",
       " 'Pancreascan',\n",
       " 'Prolapse',\n",
       " 'Menstrualdx',\n",
       " 'Ovariancyst',\n",
       " 'Menopausldx',\n",
       " 'Feminfertil',\n",
       " 'Otfemalgen',\n",
       " 'Contraceptiv',\n",
       " 'Spontabortn',\n",
       " 'Inducabortn',\n",
       " 'Abortcompl',\n",
       " 'GI/peritcan',\n",
       " 'Ectopicpreg',\n",
       " 'Otpregcomp',\n",
       " 'Hemorrpreg',\n",
       " 'HTNinpreg',\n",
       " 'Earlylabor',\n",
       " 'Longpregncy',\n",
       " 'DMinpreg',\n",
       " 'Malposition',\n",
       " 'Pelvicobstr',\n",
       " 'Prevc-sectn',\n",
       " 'Brnch/lngca',\n",
       " 'Fetaldistrs',\n",
       " 'Amniosdx',\n",
       " 'Umbilcord',\n",
       " 'OB-relatedperintrauma',\n",
       " 'Otcomplbir',\n",
       " 'Nmlpreg/del',\n",
       " 'Skininfectn',\n",
       " 'Otinflskin',\n",
       " 'Ulcerskin',\n",
       " 'Septicemia',\n",
       " 'Otrespirca',\n",
       " 'Othskindx',\n",
       " 'Infectarth',\n",
       " 'Rheumarth',\n",
       " 'Osteoarthros',\n",
       " 'Otjointdx',\n",
       " 'Backproblem',\n",
       " 'Osteoporosis',\n",
       " 'Pathologfx',\n",
       " 'Acqfootdef',\n",
       " 'Otacqdefor',\n",
       " 'Bone/ctcncr',\n",
       " 'SLE',\n",
       " 'Otconntiss',\n",
       " 'Otbonedx',\n",
       " 'Cardiacanom',\n",
       " 'GIconganom',\n",
       " 'guconganom',\n",
       " 'Nervcongan',\n",
       " 'Otconganom',\n",
       " 'Liveborn',\n",
       " 'Lowbirthwt',\n",
       " 'Skinmelanom',\n",
       " 'Birthasphyx',\n",
       " 'Respdistres',\n",
       " 'Perintjaund',\n",
       " 'Birthtrauma',\n",
       " 'Otperintdx',\n",
       " 'Jointinjury',\n",
       " 'Fxhip',\n",
       " 'Spincorinj',\n",
       " 'Fxskullfac',\n",
       " 'Fxarm',\n",
       " 'Non-epithca',\n",
       " 'Fxleg',\n",
       " 'Othfracture',\n",
       " 'Sprain',\n",
       " 'Intracrninj',\n",
       " 'Crushinjury',\n",
       " 'Opnwndhead',\n",
       " 'Opnwndextr',\n",
       " 'Complicdevi',\n",
       " 'Complicproc',\n",
       " 'Superficinj',\n",
       " 'Breastcancr',\n",
       " 'Burns',\n",
       " 'Poisonpsych',\n",
       " 'Poisnotmed',\n",
       " 'Poisnnonmed',\n",
       " 'Otherinjury',\n",
       " 'Syncope',\n",
       " 'FUO',\n",
       " 'Lymphenlarg',\n",
       " 'Gangrene',\n",
       " 'Shock',\n",
       " 'Uteruscancr',\n",
       " 'Nausea/vomit',\n",
       " 'Abdomnlpain',\n",
       " 'Fatigue',\n",
       " 'Allergy',\n",
       " 'Socialadmin',\n",
       " 'Exam/eval',\n",
       " 'Otaftercare',\n",
       " 'Otherscreen',\n",
       " 'Unclassified',\n",
       " 'Cervixcancr',\n",
       " 'ECodes:Cut/pierce',\n",
       " 'ECodes:Drowning/submersion',\n",
       " 'ECodes:Fall',\n",
       " 'ECodes:Fire/burn',\n",
       " 'ECodes:Firearm',\n",
       " 'ECodes:Machinery',\n",
       " 'ecodes:motorvehicletraffic(mvt)',\n",
       " 'ECodes:Pedalcyclist-notMVT',\n",
       " 'ECodes:Pedestrian-notMVT',\n",
       " 'ecodes:transport-notmvt',\n",
       " 'ECodes:Natural/environment',\n",
       " 'ECodes:Overexertion',\n",
       " 'ECodes:Poisoning',\n",
       " 'ECodes:Struckby-against',\n",
       " 'ECodes:Suffocation',\n",
       " 'ECodes:Adverseeffectsofmedicalcare',\n",
       " 'ECodes:Adverseeffectsofmedicaldrugs',\n",
       " 'ECodes:Otherspecifiedandclassifiable',\n",
       " 'ecodes:otherspecified-nec',\n",
       " 'ECodes:Unspecified',\n",
       " 'ECodes:Placeofoccurrence',\n",
       " 'Ovarycancer',\n",
       " 'Femgenitca',\n",
       " 'Prostatecan',\n",
       " 'Othbactinf',\n",
       " 'Testiscancr',\n",
       " 'Malgenitca',\n",
       " 'Bladdercncr',\n",
       " 'Kidny/rnlca',\n",
       " 'Urinyorgca',\n",
       " 'Brain/nscan',\n",
       " 'Thyroidcncr',\n",
       " 'Hodgkin-sds',\n",
       " 'Non-Hodglym',\n",
       " 'Leukemias',\n",
       " 'Mycoses',\n",
       " 'Multmyeloma',\n",
       " 'Otprimryca',\n",
       " '2ndarymalig',\n",
       " 'Maligneopls',\n",
       " 'Neoplsmunsp',\n",
       " 'Maintchem/r',\n",
       " 'Bnignutneo',\n",
       " 'Otbnignneo',\n",
       " 'Thyroiddsor',\n",
       " 'DiabMelnoc',\n",
       " 'HIVinfectn',\n",
       " 'DiabMelw/cm',\n",
       " 'Otendodsor',\n",
       " 'Nutritdefic',\n",
       " 'Hyperlipidem',\n",
       " 'Gout/otcrys',\n",
       " 'Fluid/elcdx',\n",
       " 'Cysticfibro',\n",
       " 'Immunitydx',\n",
       " 'Otnutritdx',\n",
       " 'Anemia',\n",
       " 'Hepatitis',\n",
       " 'Acutp-hanm',\n",
       " 'Sicklecell',\n",
       " 'Coag/hemrdx',\n",
       " 'Whtblooddx',\n",
       " 'Othematldx',\n",
       " 'Adjustmentdisorders',\n",
       " 'Anxietydisorders',\n",
       " 'Attention-deficit/conduct/disruptivebeha',\n",
       " 'Delirium/dementia/amnestic/othercognitiv',\n",
       " 'Developmentaldisorders',\n",
       " 'Disordersusuallydiagnosedininfancy/ch',\n",
       " 'ImpulsecontroldisordersNEC',\n",
       " 'Mooddisorders',\n",
       " 'Personalitydisorders',\n",
       " 'Schizophreniaandotherpsychoticdisorde',\n",
       " 'Alcohol-relateddisorders',\n",
       " 'Substance-relateddisorders',\n",
       " 'Suicideandintentionalself-inflictedin',\n",
       " 'Screeningandhistoryofmentalhealthan',\n",
       " 'Miscellaneousmentaldisorders',\n",
       " 'Viralinfect',\n",
       " 'Meningitis',\n",
       " 'Encephalitis',\n",
       " 'OthCNSinfx',\n",
       " 'Parkinson-s',\n",
       " 'Othinfectns',\n",
       " 'MS',\n",
       " 'OtheredCNS',\n",
       " 'Paralysis',\n",
       " 'Epilepsy/cnv',\n",
       " 'Headache/mig',\n",
       " 'Coma/brndmg',\n",
       " 'Cataract',\n",
       " 'Retinaldx',\n",
       " 'Glaucoma',\n",
       " 'Blindness',\n",
       " 'SexualInfxs',\n",
       " 'Eyeinfectn',\n",
       " 'Othereyedx',\n",
       " 'Otitismedia',\n",
       " 'Dizziness',\n",
       " 'Othereardx',\n",
       " 'Othnervdx',\n",
       " 'Hrtvalvedx',\n",
       " 'Carditis',\n",
       " 'HTN',\n",
       " 'Htncomplicn']"
      ]
     },
     "execution_count": 4,
     "metadata": {},
     "output_type": "execute_result"
    }
   ],
   "source": [
    "name_col = names[0].tolist()\n",
    "name_col"
   ]
  },
  {
   "cell_type": "code",
   "execution_count": 5,
   "metadata": {},
   "outputs": [],
   "source": [
    "data = pd.read_table('public_dat\\mimic_synthetic_train.data',sep=' ',header=None)"
   ]
  },
  {
   "cell_type": "code",
   "execution_count": 6,
   "metadata": {},
   "outputs": [],
   "source": [
    "data.drop(0,axis=1,inplace=True)"
   ]
  },
  {
   "cell_type": "code",
   "execution_count": 7,
   "metadata": {},
   "outputs": [],
   "source": [
    "data.columns = name_col"
   ]
  },
  {
   "cell_type": "code",
   "execution_count": 8,
   "metadata": {},
   "outputs": [],
   "source": [
    "#data"
   ]
  },
  {
   "cell_type": "code",
   "execution_count": 9,
   "metadata": {},
   "outputs": [],
   "source": [
    "died = pd.read_table('public_dat\\mimic_synthetic_train.solution',sep='\\n',header=None)\n"
   ]
  },
  {
   "cell_type": "code",
   "execution_count": 10,
   "metadata": {},
   "outputs": [],
   "source": [
    "died.columns = ['DIED']"
   ]
  },
  {
   "cell_type": "code",
   "execution_count": 11,
   "metadata": {},
   "outputs": [],
   "source": [
    "data = pd.concat([data,died],axis=1)"
   ]
  },
  {
   "cell_type": "code",
   "execution_count": 16,
   "metadata": {},
   "outputs": [],
   "source": [
    "data.drop(['SUBJECT_ID', 'HADM_ID','ADMITTIME','DISCHTIME', 'LANGUAGE', 'RELIGION'], axis=1, inplace=True)"
   ]
  },
  {
   "cell_type": "code",
   "execution_count": 17,
   "metadata": {},
   "outputs": [],
   "source": [
    "#data.head()"
   ]
  },
  {
   "cell_type": "code",
   "execution_count": 18,
   "metadata": {},
   "outputs": [],
   "source": [
    "num_cols = []\n",
    "categorical_col = []\n",
    "\n",
    "for cols in data.columns:\n",
    "    if data[cols].dtype == object:\n",
    "        categorical_col.append(cols)\n",
    "    else:\n",
    "        num_cols.append(cols)"
   ]
  },
  {
   "cell_type": "code",
   "execution_count": 15,
   "metadata": {},
   "outputs": [],
   "source": [
    "# print('length of numerical columns',len(num_cols))\n",
    "# print('length of categorical columns',len(categorical_col))"
   ]
  },
  {
   "cell_type": "code",
   "execution_count": 19,
   "metadata": {},
   "outputs": [],
   "source": [
    "from sklearn.impute import SimpleImputer\n",
    "imputer = SimpleImputer(strategy='median')\n",
    "data[num_cols] = imputer.fit_transform(data[num_cols])"
   ]
  },
  {
   "cell_type": "code",
   "execution_count": 20,
   "metadata": {},
   "outputs": [
    {
     "data": {
      "text/plain": [
       "3"
      ]
     },
     "execution_count": 20,
     "metadata": {},
     "output_type": "execute_result"
    }
   ],
   "source": [
    "data.isnull().sum().sum()"
   ]
  },
  {
   "cell_type": "code",
   "execution_count": 21,
   "metadata": {},
   "outputs": [
    {
     "data": {
      "text/plain": [
       "ICU               2\n",
       "MARITAL_STATUS    1\n",
       "dtype: int64"
      ]
     },
     "execution_count": 21,
     "metadata": {},
     "output_type": "execute_result"
    }
   ],
   "source": [
    "null_counts = data.isnull().sum()\n",
    "null_counts[null_counts > 0].sort_values(ascending=False)"
   ]
  },
  {
   "cell_type": "code",
   "execution_count": 22,
   "metadata": {},
   "outputs": [],
   "source": [
    "data[\"MARITAL_STATUS\"].fillna(\"MARRIED\", inplace = True) \n",
    "data[\"ICU\"].fillna(\"MICU\", inplace = True)  "
   ]
  },
  {
   "cell_type": "code",
   "execution_count": 23,
   "metadata": {},
   "outputs": [
    {
     "name": "stdout",
     "output_type": "stream",
     "text": [
      "Feature 'AGE' has 74' unqiue categories\n",
      "Feature 'HR_MIN_DAY1' has 79365' unqiue categories\n",
      "Feature 'HR_MAX_DAY1' has 79462' unqiue categories\n",
      "Feature 'HR_MEAN_DAY1' has 79298' unqiue categories\n",
      "Feature 'SYS_BP_MIN_DAY1' has 79329' unqiue categories\n",
      "Feature 'SYS_BP_MAX_DAY1' has 79246' unqiue categories\n",
      "Feature 'SYS_BP_MEAN_DAY1' has 79362' unqiue categories\n",
      "Feature 'DIAS_BP_MIN_DAY1' has 79511' unqiue categories\n",
      "Feature 'DIAS_BP_MAX_DAY1' has 79393' unqiue categories\n",
      "Feature 'DIAS_BP_MEAN_DAY1' has 79387' unqiue categories\n",
      "Feature 'MEAN_BP_MIN_DAY1' has 79409' unqiue categories\n",
      "Feature 'MEAN_BP_MAX_DAY1' has 79512' unqiue categories\n",
      "Feature 'MEAN_BP_MEAN_DAY1' has 79138' unqiue categories\n",
      "Feature 'RESP_RATE_MIN_DAY1' has 79552' unqiue categories\n",
      "Feature 'RESP_RATE_MAX_DAY1' has 79563' unqiue categories\n",
      "Feature 'RESP_RATE_MEAN_DAY1' has 79505' unqiue categories\n",
      "Feature 'TEMP_MIN_DAY1' has 75975' unqiue categories\n",
      "Feature 'TEMP_MAX_DAY1' has 75272' unqiue categories\n",
      "Feature 'TEMP_MEAN_DAY1' has 74488' unqiue categories\n",
      "Feature 'SPO2_MIN_DAY1' has 77393' unqiue categories\n",
      "Feature 'SPO2_MAX_DAY1' has 71125' unqiue categories\n",
      "Feature 'SPO2_MEAN_DAY1' has 75247' unqiue categories\n",
      "Feature 'GLUCOSE_MIN_DAY1' has 79521' unqiue categories\n",
      "Feature 'GLUCOSE_MAX_DAY1' has 79546' unqiue categories\n",
      "Feature 'GLUCOSE_MEAN_DAY1' has 79630' unqiue categories\n",
      "Feature 'HR_MIN_DAY2' has 79428' unqiue categories\n",
      "Feature 'HR_MAX_DAY2' has 79458' unqiue categories\n",
      "Feature 'HR_MEAN_DAY2' has 79480' unqiue categories\n",
      "Feature 'SYS_BP_MIN_DAY2' has 79354' unqiue categories\n",
      "Feature 'SYS_BP_MAX_DAY2' has 79232' unqiue categories\n",
      "Feature 'SYS_BP_MEAN_DAY2' has 79376' unqiue categories\n",
      "Feature 'DIAS_BP_MIN_DAY2' has 79533' unqiue categories\n",
      "Feature 'DIAS_BP_MAX_DAY2' has 79391' unqiue categories\n",
      "Feature 'DIAS_BP_MEAN_DAY2' has 79367' unqiue categories\n",
      "Feature 'MEAN_BP_MIN_DAY2' has 79357' unqiue categories\n",
      "Feature 'MEAN_BP_MAX_DAY2' has 79524' unqiue categories\n",
      "Feature 'MEAN_BP_MEAN_DAY2' has 79180' unqiue categories\n",
      "Feature 'RESP_RATE_MIN_DAY2' has 79576' unqiue categories\n",
      "Feature 'RESP_RATE_MAX_DAY2' has 79522' unqiue categories\n",
      "Feature 'RESP_RATE_MEAN_DAY2' has 79446' unqiue categories\n",
      "Feature 'TEMP_MIN_DAY2' has 75276' unqiue categories\n",
      "Feature 'TEMP_MAX_DAY2' has 75041' unqiue categories\n",
      "Feature 'TEMP_MEAN_DAY2' has 74318' unqiue categories\n",
      "Feature 'SPO2_MIN_DAY2' has 77241' unqiue categories\n",
      "Feature 'SPO2_MAX_DAY2' has 74384' unqiue categories\n",
      "Feature 'SPO2_MEAN_DAY2' has 74669' unqiue categories\n",
      "Feature 'GLUCOSE_MIN_DAY2' has 79503' unqiue categories\n",
      "Feature 'GLUCOSE_MAX_DAY2' has 79473' unqiue categories\n",
      "Feature 'GLUCOSE_MEAN_DAY2' has 79520' unqiue categories\n",
      "Feature 'Tuberculosis' has 1' unqiue categories\n",
      "Feature 'Immuniz/scrn' has 1' unqiue categories\n",
      "Feature 'AcuteMI' has 2' unqiue categories\n",
      "Feature 'Coronathero' has 2' unqiue categories\n",
      "Feature 'Chestpain' has 1' unqiue categories\n",
      "Feature 'Pulmhartdx' has 2' unqiue categories\n",
      "Feature 'Othheartdx' has 1' unqiue categories\n",
      "Feature 'Conduction' has 2' unqiue categories\n",
      "Feature 'Dysrhythmia' has 2' unqiue categories\n",
      "Feature 'Cardiaarrst' has 2' unqiue categories\n",
      "Feature 'chf;nonhp' has 2' unqiue categories\n",
      "Feature 'AcuteCVD' has 2' unqiue categories\n",
      "Feature 'Hd/nckcancr' has 1' unqiue categories\n",
      "Feature 'Precereoccl' has 2' unqiue categories\n",
      "Feature 'OtherCVD' has 1' unqiue categories\n",
      "Feature 'TIA' has 1' unqiue categories\n",
      "Feature 'LateeffCVD' has 2' unqiue categories\n",
      "Feature 'Peripathero' has 2' unqiue categories\n",
      "Feature 'Aneurysm' has 2' unqiue categories\n",
      "Feature 'Artembolism' has 1' unqiue categories\n",
      "Feature 'Otcirculdx' has 2' unqiue categories\n",
      "Feature 'Phlebitis' has 2' unqiue categories\n",
      "Feature 'Varicosevn' has 1' unqiue categories\n",
      "Feature 'Esophcancer' has 1' unqiue categories\n",
      "Feature 'Hemmorhoids' has 1' unqiue categories\n",
      "Feature 'Othveindx' has 1' unqiue categories\n",
      "Feature 'Pneumonia' has 2' unqiue categories\n",
      "Feature 'Influenza' has 1' unqiue categories\n",
      "Feature 'Tonsillitis' has 1' unqiue categories\n",
      "Feature 'Bronchitis' has 1' unqiue categories\n",
      "Feature 'Otuprspin' has 1' unqiue categories\n",
      "Feature 'COPD' has 2' unqiue categories\n",
      "Feature 'Asthma' has 2' unqiue categories\n",
      "Feature 'Asppneumon' has 2' unqiue categories\n",
      "Feature 'Stomchcancr' has 1' unqiue categories\n",
      "Feature 'Pleurisy' has 2' unqiue categories\n",
      "Feature 'Adltrespfl' has 2' unqiue categories\n",
      "Feature 'Lungexternl' has 1' unqiue categories\n",
      "Feature 'Othlowresp' has 2' unqiue categories\n",
      "Feature 'Otupprresp' has 2' unqiue categories\n",
      "Feature 'Intestinfct' has 2' unqiue categories\n",
      "Feature 'Teethdx' has 1' unqiue categories\n",
      "Feature 'Mouthdx' has 1' unqiue categories\n",
      "Feature 'Esophgealdx' has 2' unqiue categories\n",
      "Feature 'Gasduoulcer' has 2' unqiue categories\n",
      "Feature 'Coloncancer' has 1' unqiue categories\n",
      "Feature 'Gastritis' has 2' unqiue categories\n",
      "Feature 'Otdxstomch' has 2' unqiue categories\n",
      "Feature 'Appendicitis' has 1' unqiue categories\n",
      "Feature 'Abdomhernia' has 2' unqiue categories\n",
      "Feature 'Ulceratcol' has 1' unqiue categories\n",
      "Feature 'Intobstruct' has 2' unqiue categories\n",
      "Feature 'Diverticulos' has 2' unqiue categories\n",
      "Feature 'Anal/rectal' has 1' unqiue categories\n",
      "Feature 'Peritonitis' has 2' unqiue categories\n",
      "Feature 'Biliarydx' has 2' unqiue categories\n",
      "Feature 'Rctm/anusca' has 1' unqiue categories\n",
      "Feature 'Othliverdx' has 2' unqiue categories\n",
      "Feature 'Pancreasdx' has 2' unqiue categories\n",
      "Feature 'GIhemorrhag' has 2' unqiue categories\n",
      "Feature 'Gastroent' has 1' unqiue categories\n",
      "Feature 'OtherGIdx' has 2' unqiue categories\n",
      "Feature 'Nephritis' has 1' unqiue categories\n",
      "Feature 'Acrenlfail' has 2' unqiue categories\n",
      "Feature 'Chrrenfail' has 2' unqiue categories\n",
      "Feature 'UTI' has 2' unqiue categories\n",
      "Feature 'Liver/ibdca' has 1' unqiue categories\n",
      "Feature 'Urinstone' has 1' unqiue categories\n",
      "Feature 'Otdxkidney' has 2' unqiue categories\n",
      "Feature 'Otdxbladdr' has 1' unqiue categories\n",
      "Feature 'OtherGUdx' has 2' unqiue categories\n",
      "Feature 'BPH' has 2' unqiue categories\n",
      "Feature 'Infmalegen' has 1' unqiue categories\n",
      "Feature 'Othmalegen' has 1' unqiue categories\n",
      "Feature 'Breastdx' has 1' unqiue categories\n",
      "Feature 'PID' has 1' unqiue categories\n",
      "Feature 'Endometrios' has 1' unqiue categories\n",
      "Feature 'Pancreascan' has 1' unqiue categories\n",
      "Feature 'Prolapse' has 1' unqiue categories\n",
      "Feature 'Menstrualdx' has 1' unqiue categories\n",
      "Feature 'Ovariancyst' has 1' unqiue categories\n",
      "Feature 'Menopausldx' has 1' unqiue categories\n",
      "Feature 'Feminfertil' has 1' unqiue categories\n",
      "Feature 'Otfemalgen' has 1' unqiue categories\n",
      "Feature 'Contraceptiv' has 1' unqiue categories\n",
      "Feature 'Spontabortn' has 1' unqiue categories\n",
      "Feature 'Inducabortn' has 1' unqiue categories\n",
      "Feature 'Abortcompl' has 1' unqiue categories\n",
      "Feature 'GI/peritcan' has 1' unqiue categories\n",
      "Feature 'Ectopicpreg' has 1' unqiue categories\n",
      "Feature 'Otpregcomp' has 1' unqiue categories\n",
      "Feature 'Hemorrpreg' has 1' unqiue categories\n",
      "Feature 'HTNinpreg' has 1' unqiue categories\n",
      "Feature 'Earlylabor' has 1' unqiue categories\n",
      "Feature 'Longpregncy' has 1' unqiue categories\n",
      "Feature 'DMinpreg' has 1' unqiue categories\n",
      "Feature 'Malposition' has 1' unqiue categories\n",
      "Feature 'Pelvicobstr' has 1' unqiue categories\n",
      "Feature 'Prevc-sectn' has 1' unqiue categories\n",
      "Feature 'Brnch/lngca' has 2' unqiue categories\n",
      "Feature 'Fetaldistrs' has 1' unqiue categories\n",
      "Feature 'Amniosdx' has 1' unqiue categories\n",
      "Feature 'Umbilcord' has 1' unqiue categories\n",
      "Feature 'OB-relatedperintrauma' has 1' unqiue categories\n",
      "Feature 'Otcomplbir' has 1' unqiue categories\n",
      "Feature 'Nmlpreg/del' has 1' unqiue categories\n",
      "Feature 'Skininfectn' has 2' unqiue categories\n",
      "Feature 'Otinflskin' has 1' unqiue categories\n",
      "Feature 'Ulcerskin' has 2' unqiue categories\n",
      "Feature 'Septicemia' has 2' unqiue categories\n",
      "Feature 'Otrespirca' has 1' unqiue categories\n",
      "Feature 'Othskindx' has 1' unqiue categories\n",
      "Feature 'Infectarth' has 1' unqiue categories\n",
      "Feature 'Rheumarth' has 1' unqiue categories\n",
      "Feature 'Osteoarthros' has 2' unqiue categories\n",
      "Feature 'Otjointdx' has 2' unqiue categories\n",
      "Feature 'Backproblem' has 2' unqiue categories\n",
      "Feature 'Osteoporosis' has 2' unqiue categories\n",
      "Feature 'Pathologfx' has 1' unqiue categories\n",
      "Feature 'Acqfootdef' has 1' unqiue categories\n",
      "Feature 'Otacqdefor' has 1' unqiue categories\n",
      "Feature 'Bone/ctcncr' has 1' unqiue categories\n",
      "Feature 'SLE' has 1' unqiue categories\n",
      "Feature 'Otconntiss' has 2' unqiue categories\n",
      "Feature 'Otbonedx' has 1' unqiue categories\n",
      "Feature 'Cardiacanom' has 2' unqiue categories\n",
      "Feature 'GIconganom' has 1' unqiue categories\n",
      "Feature 'guconganom' has 1' unqiue categories\n",
      "Feature 'Nervcongan' has 1' unqiue categories\n",
      "Feature 'Otconganom' has 1' unqiue categories\n",
      "Feature 'Liveborn' has 1' unqiue categories\n",
      "Feature 'Lowbirthwt' has 1' unqiue categories\n",
      "Feature 'Skinmelanom' has 1' unqiue categories\n",
      "Feature 'Birthasphyx' has 1' unqiue categories\n",
      "Feature 'Respdistres' has 1' unqiue categories\n",
      "Feature 'Perintjaund' has 1' unqiue categories\n",
      "Feature 'Birthtrauma' has 1' unqiue categories\n",
      "Feature 'Otperintdx' has 1' unqiue categories\n",
      "Feature 'Jointinjury' has 1' unqiue categories\n",
      "Feature 'Fxhip' has 1' unqiue categories\n",
      "Feature 'Spincorinj' has 1' unqiue categories\n",
      "Feature 'Fxskullfac' has 1' unqiue categories\n",
      "Feature 'Fxarm' has 2' unqiue categories\n",
      "Feature 'Non-epithca' has 1' unqiue categories\n",
      "Feature 'Fxleg' has 2' unqiue categories\n",
      "Feature 'Othfracture' has 2' unqiue categories\n",
      "Feature 'Sprain' has 1' unqiue categories\n",
      "Feature 'Intracrninj' has 2' unqiue categories\n",
      "Feature 'Crushinjury' has 2' unqiue categories\n",
      "Feature 'Opnwndhead' has 2' unqiue categories\n",
      "Feature 'Opnwndextr' has 1' unqiue categories\n",
      "Feature 'Complicdevi' has 2' unqiue categories\n",
      "Feature 'Complicproc' has 2' unqiue categories\n",
      "Feature 'Superficinj' has 1' unqiue categories\n",
      "Feature 'Breastcancr' has 2' unqiue categories\n",
      "Feature 'Burns' has 1' unqiue categories\n",
      "Feature 'Poisonpsych' has 1' unqiue categories\n",
      "Feature 'Poisnotmed' has 1' unqiue categories\n",
      "Feature 'Poisnnonmed' has 1' unqiue categories\n",
      "Feature 'Otherinjury' has 2' unqiue categories\n",
      "Feature 'Syncope' has 1' unqiue categories\n",
      "Feature 'FUO' has 1' unqiue categories\n",
      "Feature 'Lymphenlarg' has 1' unqiue categories\n",
      "Feature 'Gangrene' has 1' unqiue categories\n",
      "Feature 'Shock' has 2' unqiue categories\n",
      "Feature 'Uteruscancr' has 1' unqiue categories\n",
      "Feature 'Nausea/vomit' has 1' unqiue categories\n",
      "Feature 'Abdomnlpain' has 1' unqiue categories\n",
      "Feature 'Fatigue' has 1' unqiue categories\n",
      "Feature 'Allergy' has 2' unqiue categories\n",
      "Feature 'Socialadmin' has 1' unqiue categories\n",
      "Feature 'Exam/eval' has 1' unqiue categories\n",
      "Feature 'Otaftercare' has 2' unqiue categories\n",
      "Feature 'Otherscreen' has 1' unqiue categories\n",
      "Feature 'Unclassified' has 2' unqiue categories\n",
      "Feature 'Cervixcancr' has 1' unqiue categories\n",
      "Feature 'ECodes:Cut/pierce' has 1' unqiue categories\n",
      "Feature 'ECodes:Drowning/submersion' has 1' unqiue categories\n",
      "Feature 'ECodes:Fall' has 2' unqiue categories\n",
      "Feature 'ECodes:Fire/burn' has 1' unqiue categories\n",
      "Feature 'ECodes:Firearm' has 1' unqiue categories\n",
      "Feature 'ECodes:Machinery' has 1' unqiue categories\n",
      "Feature 'ecodes:motorvehicletraffic(mvt)' has 2' unqiue categories\n",
      "Feature 'ECodes:Pedalcyclist-notMVT' has 1' unqiue categories\n",
      "Feature 'ECodes:Pedestrian-notMVT' has 1' unqiue categories\n",
      "Feature 'ecodes:transport-notmvt' has 1' unqiue categories\n",
      "Feature 'ECodes:Natural/environment' has 1' unqiue categories\n",
      "Feature 'ECodes:Overexertion' has 1' unqiue categories\n",
      "Feature 'ECodes:Poisoning' has 1' unqiue categories\n",
      "Feature 'ECodes:Struckby-against' has 1' unqiue categories\n",
      "Feature 'ECodes:Suffocation' has 1' unqiue categories\n",
      "Feature 'ECodes:Adverseeffectsofmedicalcare' has 2' unqiue categories\n",
      "Feature 'ECodes:Adverseeffectsofmedicaldrugs' has 2' unqiue categories\n",
      "Feature 'ECodes:Otherspecifiedandclassifiable' has 1' unqiue categories\n",
      "Feature 'ecodes:otherspecified-nec' has 1' unqiue categories\n",
      "Feature 'ECodes:Unspecified' has 1' unqiue categories\n",
      "Feature 'ECodes:Placeofoccurrence' has 2' unqiue categories\n",
      "Feature 'Ovarycancer' has 1' unqiue categories\n",
      "Feature 'Femgenitca' has 1' unqiue categories\n",
      "Feature 'Prostatecan' has 2' unqiue categories\n",
      "Feature 'Othbactinf' has 2' unqiue categories\n",
      "Feature 'Testiscancr' has 1' unqiue categories\n",
      "Feature 'Malgenitca' has 1' unqiue categories\n",
      "Feature 'Bladdercncr' has 1' unqiue categories\n",
      "Feature 'Kidny/rnlca' has 1' unqiue categories\n",
      "Feature 'Urinyorgca' has 1' unqiue categories\n",
      "Feature 'Brain/nscan' has 1' unqiue categories\n",
      "Feature 'Thyroidcncr' has 1' unqiue categories\n",
      "Feature 'Hodgkin-sds' has 1' unqiue categories\n",
      "Feature 'Non-Hodglym' has 1' unqiue categories\n",
      "Feature 'Leukemias' has 1' unqiue categories\n",
      "Feature 'Mycoses' has 2' unqiue categories\n",
      "Feature 'Multmyeloma' has 1' unqiue categories\n",
      "Feature 'Otprimryca' has 1' unqiue categories\n",
      "Feature '2ndarymalig' has 2' unqiue categories\n",
      "Feature 'Maligneopls' has 1' unqiue categories\n",
      "Feature 'Neoplsmunsp' has 1' unqiue categories\n",
      "Feature 'Maintchem/r' has 1' unqiue categories\n",
      "Feature 'Bnignutneo' has 1' unqiue categories\n",
      "Feature 'Otbnignneo' has 2' unqiue categories\n",
      "Feature 'Thyroiddsor' has 2' unqiue categories\n",
      "Feature 'DiabMelnoc' has 2' unqiue categories\n",
      "Feature 'HIVinfectn' has 1' unqiue categories\n",
      "Feature 'DiabMelw/cm' has 2' unqiue categories\n",
      "Feature 'Otendodsor' has 2' unqiue categories\n",
      "Feature 'Nutritdefic' has 2' unqiue categories\n",
      "Feature 'Hyperlipidem' has 2' unqiue categories\n",
      "Feature 'Gout/otcrys' has 2' unqiue categories\n",
      "Feature 'Fluid/elcdx' has 2' unqiue categories\n",
      "Feature 'Cysticfibro' has 1' unqiue categories\n",
      "Feature 'Immunitydx' has 1' unqiue categories\n",
      "Feature 'Otnutritdx' has 2' unqiue categories\n"
     ]
    },
    {
     "name": "stdout",
     "output_type": "stream",
     "text": [
      "Feature 'Anemia' has 2' unqiue categories\n",
      "Feature 'Hepatitis' has 2' unqiue categories\n",
      "Feature 'Acutp-hanm' has 2' unqiue categories\n",
      "Feature 'Sicklecell' has 1' unqiue categories\n",
      "Feature 'Coag/hemrdx' has 2' unqiue categories\n",
      "Feature 'Whtblooddx' has 2' unqiue categories\n",
      "Feature 'Othematldx' has 1' unqiue categories\n",
      "Feature 'Adjustmentdisorders' has 1' unqiue categories\n",
      "Feature 'Anxietydisorders' has 2' unqiue categories\n",
      "Feature 'Attention-deficit/conduct/disruptivebeha' has 1' unqiue categories\n",
      "Feature 'Delirium/dementia/amnestic/othercognitiv' has 2' unqiue categories\n",
      "Feature 'Developmentaldisorders' has 1' unqiue categories\n",
      "Feature 'Disordersusuallydiagnosedininfancy/ch' has 1' unqiue categories\n",
      "Feature 'ImpulsecontroldisordersNEC' has 1' unqiue categories\n",
      "Feature 'Mooddisorders' has 2' unqiue categories\n",
      "Feature 'Personalitydisorders' has 1' unqiue categories\n",
      "Feature 'Schizophreniaandotherpsychoticdisorde' has 1' unqiue categories\n",
      "Feature 'Alcohol-relateddisorders' has 2' unqiue categories\n",
      "Feature 'Substance-relateddisorders' has 2' unqiue categories\n",
      "Feature 'Suicideandintentionalself-inflictedin' has 1' unqiue categories\n",
      "Feature 'Screeningandhistoryofmentalhealthan' has 2' unqiue categories\n",
      "Feature 'Miscellaneousmentaldisorders' has 1' unqiue categories\n",
      "Feature 'Viralinfect' has 1' unqiue categories\n",
      "Feature 'Meningitis' has 1' unqiue categories\n",
      "Feature 'Encephalitis' has 1' unqiue categories\n",
      "Feature 'OthCNSinfx' has 1' unqiue categories\n",
      "Feature 'Parkinson-s' has 1' unqiue categories\n",
      "Feature 'Othinfectns' has 1' unqiue categories\n",
      "Feature 'MS' has 1' unqiue categories\n",
      "Feature 'OtheredCNS' has 2' unqiue categories\n",
      "Feature 'Paralysis' has 2' unqiue categories\n",
      "Feature 'Epilepsy/cnv' has 2' unqiue categories\n",
      "Feature 'Headache/mig' has 1' unqiue categories\n",
      "Feature 'Coma/brndmg' has 2' unqiue categories\n",
      "Feature 'Cataract' has 1' unqiue categories\n",
      "Feature 'Retinaldx' has 2' unqiue categories\n",
      "Feature 'Glaucoma' has 2' unqiue categories\n",
      "Feature 'Blindness' has 1' unqiue categories\n",
      "Feature 'SexualInfxs' has 1' unqiue categories\n",
      "Feature 'Eyeinfectn' has 1' unqiue categories\n",
      "Feature 'Othereyedx' has 2' unqiue categories\n",
      "Feature 'Otitismedia' has 1' unqiue categories\n",
      "Feature 'Dizziness' has 1' unqiue categories\n",
      "Feature 'Othereardx' has 1' unqiue categories\n",
      "Feature 'Othnervdx' has 2' unqiue categories\n",
      "Feature 'Hrtvalvedx' has 2' unqiue categories\n",
      "Feature 'Carditis' has 2' unqiue categories\n",
      "Feature 'HTN' has 2' unqiue categories\n",
      "Feature 'Htncomplicn' has 2' unqiue categories\n",
      "Feature 'DIED' has 2' unqiue categories\n"
     ]
    }
   ],
   "source": [
    "for name_col in data.columns:\n",
    "    if data[name_col].dtypes == float:\n",
    "        unique_cat = len(data[name_col].unique())\n",
    "        print(\"Feature '{name_col}' has {unique_cat}' unqiue categories\".format(\n",
    "             name_col = name_col,unique_cat = unique_cat))"
   ]
  },
  {
   "cell_type": "code",
   "execution_count": 24,
   "metadata": {},
   "outputs": [
    {
     "name": "stdout",
     "output_type": "stream",
     "text": [
      "Feature 'INSURANCE' has 5' unqiue categories\n",
      "Feature 'MARITAL_STATUS' has 7' unqiue categories\n",
      "Feature 'ETHNICITY' has 41' unqiue categories\n",
      "Feature 'GENDER' has 2' unqiue categories\n",
      "Feature 'ICU' has 5' unqiue categories\n"
     ]
    }
   ],
   "source": [
    "for name_col in data.columns:\n",
    "    if data[name_col].dtypes == 'object':\n",
    "        unique_cat = len(data[name_col].unique())\n",
    "        print(\"Feature '{name_col}' has {unique_cat}' unqiue categories\".format(\n",
    "             name_col = name_col,unique_cat = unique_cat))"
   ]
  },
  {
   "cell_type": "code",
   "execution_count": null,
   "metadata": {},
   "outputs": [],
   "source": []
  },
  {
   "cell_type": "code",
   "execution_count": null,
   "metadata": {},
   "outputs": [],
   "source": []
  },
  {
   "cell_type": "code",
   "execution_count": 25,
   "metadata": {},
   "outputs": [],
   "source": [
    "#data.head()"
   ]
  },
  {
   "cell_type": "code",
   "execution_count": 26,
   "metadata": {},
   "outputs": [],
   "source": [
    "#pip install imblearn"
   ]
  },
  {
   "cell_type": "code",
   "execution_count": 29,
   "metadata": {},
   "outputs": [
    {
     "data": {
      "text/plain": [
       "imblearn.over_sampling._smote.base.SMOTE"
      ]
     },
     "execution_count": 29,
     "metadata": {},
     "output_type": "execute_result"
    }
   ],
   "source": []
  },
  {
   "cell_type": "code",
   "execution_count": 33,
   "metadata": {},
   "outputs": [
    {
     "ename": "NameError",
     "evalue": "name 'X' is not defined",
     "output_type": "error",
     "traceback": [
      "\u001b[1;31m---------------------------------------------------------------------------\u001b[0m",
      "\u001b[1;31mNameError\u001b[0m                                 Traceback (most recent call last)",
      "\u001b[1;32m<ipython-input-33-917c492f7a53>\u001b[0m in \u001b[0;36m<module>\u001b[1;34m\u001b[0m\n\u001b[0;32m      3\u001b[0m \u001b[1;32mfrom\u001b[0m \u001b[0mimblearn\u001b[0m\u001b[1;33m.\u001b[0m\u001b[0mover_sampling\u001b[0m \u001b[1;32mimport\u001b[0m \u001b[0mSMOTE\u001b[0m                        \u001b[1;31m# Balance imbalance data\u001b[0m\u001b[1;33m\u001b[0m\u001b[1;33m\u001b[0m\u001b[0m\n\u001b[0;32m      4\u001b[0m \u001b[0msm\u001b[0m \u001b[1;33m=\u001b[0m \u001b[0mSMOTE\u001b[0m\u001b[1;33m(\u001b[0m\u001b[0mrandom_state\u001b[0m\u001b[1;33m=\u001b[0m\u001b[1;36m2\u001b[0m\u001b[1;33m)\u001b[0m\u001b[1;33m\u001b[0m\u001b[1;33m\u001b[0m\u001b[0m\n\u001b[1;32m----> 5\u001b[1;33m \u001b[0mX\u001b[0m\u001b[1;33m,\u001b[0m \u001b[0my\u001b[0m \u001b[1;33m=\u001b[0m \u001b[0msm\u001b[0m\u001b[1;33m.\u001b[0m\u001b[0mfit_resample\u001b[0m\u001b[1;33m(\u001b[0m\u001b[0mX\u001b[0m\u001b[1;33m,\u001b[0m \u001b[0mnp\u001b[0m\u001b[1;33m.\u001b[0m\u001b[0mravel\u001b[0m\u001b[1;33m(\u001b[0m\u001b[0my\u001b[0m\u001b[1;33m)\u001b[0m\u001b[1;33m)\u001b[0m\u001b[1;33m\u001b[0m\u001b[1;33m\u001b[0m\u001b[0m\n\u001b[0m\u001b[0;32m      6\u001b[0m \u001b[0mprint\u001b[0m\u001b[1;33m(\u001b[0m\u001b[0msum\u001b[0m\u001b[1;33m(\u001b[0m\u001b[0my\u001b[0m\u001b[1;33m==\u001b[0m\u001b[1;36m0\u001b[0m\u001b[1;33m)\u001b[0m\u001b[1;33m)\u001b[0m\u001b[1;33m\u001b[0m\u001b[1;33m\u001b[0m\u001b[0m\n\u001b[0;32m      7\u001b[0m \u001b[0mprint\u001b[0m\u001b[1;33m(\u001b[0m\u001b[0msum\u001b[0m\u001b[1;33m(\u001b[0m\u001b[0my\u001b[0m\u001b[1;33m==\u001b[0m\u001b[1;36m1\u001b[0m\u001b[1;33m)\u001b[0m\u001b[1;33m)\u001b[0m\u001b[1;33m\u001b[0m\u001b[1;33m\u001b[0m\u001b[0m\n",
      "\u001b[1;31mNameError\u001b[0m: name 'X' is not defined"
     ]
    }
   ],
   "source": [
    "#trialss\n",
    "# UnderSampled Balanced Dataset\n",
    "from imblearn.over_sampling import SMOTE                        # Balance imbalance data\n",
    "sm = SMOTE(random_state=2)\n",
    "X, y = sm.fit_resample(X, np.ravel(y))\n",
    "print(sum(y==0))\n",
    "print(sum(y==1))"
   ]
  },
  {
   "cell_type": "code",
   "execution_count": null,
   "metadata": {},
   "outputs": [],
   "source": [
    "data_copy=data"
   ]
  },
  {
   "cell_type": "code",
   "execution_count": null,
   "metadata": {},
   "outputs": [],
   "source": [
    "# Separting categorical and numeric features\n",
    "num_data_bal = balanced_data.select_dtypes(include = ['float64', 'int64'])\n",
    "num_data_bal.shape\n",
    "\n",
    "cat_data_bal = balanced_data.select_dtypes(include = ['O'])\n",
    "\n",
    "print(num_data_bal.shape)\n",
    "print(cat_data_bal.shape)\n",
    "\n",
    "char_cols = cat_data_bal.columns\n",
    "num_cols = num_data_bal.columns\n",
    "target = num_data_bal[\"DIED\"]"
   ]
  },
  {
   "cell_type": "code",
   "execution_count": null,
   "metadata": {},
   "outputs": [],
   "source": [
    "from collections import Counter\n",
    "\n",
    "import matplotlib.pyplot as plt\n",
    "def plot_pie(y):\n",
    "    target_stats = Counter(y)\n",
    "    labels = list(target_stats.keys())\n",
    "    sizes = list(target_stats.values())\n",
    "    explode = tuple([0.1] * len(target_stats))\n",
    "\n",
    "    fig, ax = plt.subplots()\n",
    "    ax.pie(sizes, explode=explode, labels=labels, shadow=True,\n",
    "           autopct='%1.1f%%')\n",
    "    ax.axis('equal')"
   ]
  },
  {
   "cell_type": "code",
   "execution_count": null,
   "metadata": {},
   "outputs": [],
   "source": [
    "plot_pie(data[\"DIED\"])  # Plotting the distribution of target variables"
   ]
  },
  {
   "cell_type": "code",
   "execution_count": null,
   "metadata": {},
   "outputs": [],
   "source": [
    "plot_pie(balanced_data[\"DIED\"])  # Plotting the distribution of target variables"
   ]
  },
  {
   "cell_type": "code",
   "execution_count": null,
   "metadata": {},
   "outputs": [],
   "source": []
  },
  {
   "cell_type": "code",
   "execution_count": null,
   "metadata": {},
   "outputs": [],
   "source": []
  },
  {
   "cell_type": "code",
   "execution_count": null,
   "metadata": {},
   "outputs": [],
   "source": []
  },
  {
   "cell_type": "code",
   "execution_count": null,
   "metadata": {},
   "outputs": [],
   "source": [
    "#correlation matrix for numeric data\n",
    "corrmat = num_data_bal.corr()\n",
    "k = 10 #number of variables for heatmap\n",
    "cols = corrmat.nlargest(k, 'DIED')['DIED'].index\n",
    "cm = np.corrcoef(num_data_bal[cols].values.T)\n",
    "sns.set(font_scale=1.25)\n",
    "hm = sns.heatmap(cm, cbar=True, annot=True, square=True, fmt='.2f', annot_kws={'size': 10}, yticklabels=cols.values, xticklabels=cols.values)\n",
    "plt.show()\n",
    "\n",
    "# The following plot shows that the correlation values with the dependent variable is too low"
   ]
  },
  {
   "cell_type": "code",
   "execution_count": null,
   "metadata": {
    "scrolled": true
   },
   "outputs": [],
   "source": [
    "## Correlation with dependent variable - First filter\n",
    "corr_with_DIED = num_data_bal.corr()[\"DIED\"].copy()\n",
    "corr_with_DIED_abs = abs(corr_with_DIED).copy()  # Getting absolute of correlation values\n",
    "corr_with_DIED_abs = corr_with_DIED_abs.sort_values(ascending = False) # Setting them in descending order\n",
    "important_vars = [corr_with_DIED_abs.index[0]]\n",
    "correlation_target_table = pd.DataFrame({'attribute':corr_with_DIED_abs.index, 'list':corr_with_DIED_abs.values})\n",
    "\n",
    "# Selecting variables with >= 0.01 correlation with target variable \n",
    "correlation_target_selected_table = correlation_target_table[(correlation_target_table['list'] >= 0.01)]\n",
    "important_variables = correlation_target_selected_table['attribute']\n",
    "len(important_variables)"
   ]
  },
  {
   "cell_type": "code",
   "execution_count": null,
   "metadata": {},
   "outputs": [],
   "source": [
    "important_variables"
   ]
  },
  {
   "cell_type": "code",
   "execution_count": null,
   "metadata": {},
   "outputs": [],
   "source": [
    "# Drops the non-important variables\n",
    "data_fin = num_data_bal[important_variables]"
   ]
  },
  {
   "cell_type": "code",
   "execution_count": null,
   "metadata": {},
   "outputs": [],
   "source": [
    "data_fin.head()"
   ]
  },
  {
   "cell_type": "code",
   "execution_count": null,
   "metadata": {},
   "outputs": [],
   "source": [
    "\n"
   ]
  },
  {
   "cell_type": "code",
   "execution_count": null,
   "metadata": {},
   "outputs": [],
   "source": [
    "# place the DataFrames side by side\n",
    "fb_data = pd.concat([cat_data_bal, data_fin], axis=1) \n",
    "print(fb_data.shape)  \n"
   ]
  },
  {
   "cell_type": "code",
   "execution_count": null,
   "metadata": {},
   "outputs": [],
   "source": [
    "fb_data.head()"
   ]
  },
  {
   "cell_type": "code",
   "execution_count": null,
   "metadata": {},
   "outputs": [],
   "source": []
  },
  {
   "cell_type": "code",
   "execution_count": null,
   "metadata": {},
   "outputs": [],
   "source": []
  },
  {
   "cell_type": "code",
   "execution_count": null,
   "metadata": {},
   "outputs": [],
   "source": []
  },
  {
   "cell_type": "code",
   "execution_count": null,
   "metadata": {},
   "outputs": [],
   "source": []
  },
  {
   "cell_type": "code",
   "execution_count": null,
   "metadata": {},
   "outputs": [],
   "source": []
  },
  {
   "cell_type": "code",
   "execution_count": null,
   "metadata": {},
   "outputs": [],
   "source": [
    "\n"
   ]
  },
  {
   "cell_type": "code",
   "execution_count": null,
   "metadata": {},
   "outputs": [],
   "source": []
  },
  {
   "cell_type": "code",
   "execution_count": null,
   "metadata": {},
   "outputs": [],
   "source": []
  },
  {
   "cell_type": "code",
   "execution_count": null,
   "metadata": {},
   "outputs": [],
   "source": [
    "X=data.iloc[:,:-1].values\n",
    "y=data.iloc[:, -1].values\n",
    "\n",
    "#Splitting into training and test dataset\n",
    "from sklearn.model_selection import train_test_split\n",
    "X_train, X_test, y_train, y_test= train_test_split(X,y, test_size=0.2, random_state=0)"
   ]
  },
  {
   "cell_type": "code",
   "execution_count": null,
   "metadata": {},
   "outputs": [],
   "source": [
    "X.shape, y.shape, X_train.shape , X_test.shape"
   ]
  },
  {
   "cell_type": "code",
   "execution_count": null,
   "metadata": {},
   "outputs": [],
   "source": [
    "data = pd.concat([data,died],axis=1)"
   ]
  },
  {
   "cell_type": "code",
   "execution_count": null,
   "metadata": {},
   "outputs": [],
   "source": [
    "data = pd.get_dummies(data)"
   ]
  },
  {
   "cell_type": "code",
   "execution_count": null,
   "metadata": {},
   "outputs": [],
   "source": [
    "from imblearn.over_sampling import SMOTE                        # Balance imbalance data\n",
    "sm = SMOTE(random_state=2)\n",
    "X, y = sm.fit_sample(X, np.ravel(y))\n",
    "print(sum(y==0))\n",
    "print(sum(y==1))"
   ]
  },
  {
   "cell_type": "code",
   "execution_count": null,
   "metadata": {},
   "outputs": [],
   "source": []
  },
  {
   "cell_type": "code",
   "execution_count": null,
   "metadata": {},
   "outputs": [],
   "source": []
  },
  {
   "cell_type": "code",
   "execution_count": null,
   "metadata": {},
   "outputs": [],
   "source": []
  },
  {
   "cell_type": "code",
   "execution_count": null,
   "metadata": {},
   "outputs": [],
   "source": []
  },
  {
   "cell_type": "code",
   "execution_count": null,
   "metadata": {},
   "outputs": [],
   "source": []
  },
  {
   "cell_type": "code",
   "execution_count": null,
   "metadata": {},
   "outputs": [],
   "source": []
  },
  {
   "cell_type": "code",
   "execution_count": null,
   "metadata": {},
   "outputs": [],
   "source": []
  }
 ],
 "metadata": {
  "kernelspec": {
   "display_name": "Python 3",
   "language": "python",
   "name": "python3"
  },
  "language_info": {
   "codemirror_mode": {
    "name": "ipython",
    "version": 3
   },
   "file_extension": ".py",
   "mimetype": "text/x-python",
   "name": "python",
   "nbconvert_exporter": "python",
   "pygments_lexer": "ipython3",
   "version": "3.7.4"
  }
 },
 "nbformat": 4,
 "nbformat_minor": 2
}
