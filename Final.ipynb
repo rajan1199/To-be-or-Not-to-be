{
 "cells": [
  {
   "cell_type": "code",
   "execution_count": 1,
   "metadata": {},
   "outputs": [],
   "source": [
    "#to remove warnings\n",
    "import warnings\n",
    "warnings.filterwarnings('ignore')"
   ]
  },
  {
   "cell_type": "code",
   "execution_count": 2,
   "metadata": {},
   "outputs": [],
   "source": [
    "#importing all the important libraries\n",
    "import numpy as np\n",
    "import pandas as pd\n",
    "from sklearn.ensemble import RandomForestClassifier\n",
    "from sklearn.metrics import accuracy_score as acc\n",
    "from mlxtend.feature_selection import SequentialFeatureSelector as sfs\n",
    "import matplotlib.pyplot as plt\n",
    "import seaborn as sns\n",
    "from sklearn.metrics import accuracy_score"
   ]
  },
  {
   "cell_type": "code",
   "execution_count": 3,
   "metadata": {},
   "outputs": [],
   "source": [
    "#reading necessary files\n",
    "names = pd.read_table('public_dat\\mimic_synthetic_feat.name',sep='\\n',header=None)\n",
    "data = pd.read_table('public_dat\\mimic_synthetic_train.data',sep=' ',header=None)\n",
    "died = pd.read_table('public_dat\\mimic_synthetic_train.solution',sep='\\n',header=None)\n",
    "test = pd.read_table('public_dat\\mimic_synthetic_test.data' ,sep=' ' ,header=None)"
   ]
  },
  {
   "cell_type": "code",
   "execution_count": 4,
   "metadata": {},
   "outputs": [],
   "source": [
    "#converting the name row of excel to a list\n",
    "name_col = names[0].tolist() "
   ]
  },
  {
   "cell_type": "code",
   "execution_count": 5,
   "metadata": {},
   "outputs": [],
   "source": [
    "#assigning column names to train and test data\n",
    "data.drop(0,axis=1,inplace=True) \n",
    "test.drop(0,axis=1,inplace=True)\n",
    "data.columns = name_col      \n",
    "test.columns =name_col"
   ]
  },
  {
   "cell_type": "code",
   "execution_count": 6,
   "metadata": {},
   "outputs": [],
   "source": [
    "data[\"MARITAL_STATUS\"].fillna(\"MARRIED\", inplace = True) \n",
    "data[\"ICU\"].fillna(\"MICU\", inplace = True) \n",
    "data[\"LANGUAGE\"].fillna(\"ENGL\", inplace = True)\n",
    "test[\"LANGUAGE\"].fillna(\"ENGL\",inplace = True)"
   ]
  },
  {
   "cell_type": "code",
   "execution_count": 7,
   "metadata": {},
   "outputs": [],
   "source": [
    "#training columns headings to a different lists acc to their datatypes\n",
    "num_cols = []\n",
    "cat_col = []\n",
    "\n",
    "for cols in data.columns:\n",
    "    if data[cols].dtype == object:\n",
    "        cat_col.append(cols)\n",
    "    else:\n",
    "        num_cols.append(cols)"
   ]
  },
  {
   "cell_type": "code",
   "execution_count": 8,
   "metadata": {},
   "outputs": [],
   "source": [
    "#test columns headings to a different lists acc to their datatypes\n",
    "tnum_cols = []\n",
    "tcat_col = []\n",
    "\n",
    "for cols in test.columns:\n",
    "    if test[cols].dtype == object:\n",
    "        tcat_col.append(cols)\n",
    "    else:\n",
    "        tnum_cols.append(cols)"
   ]
  },
  {
   "cell_type": "code",
   "execution_count": 9,
   "metadata": {},
   "outputs": [],
   "source": [
    "#filling the missing values in training data with median\n",
    "from sklearn.impute import SimpleImputer\n",
    "imputer = SimpleImputer(strategy='mean')\n",
    "data[num_cols] = imputer.fit_transform(data[num_cols])\n"
   ]
  },
  {
   "cell_type": "code",
   "execution_count": 10,
   "metadata": {},
   "outputs": [],
   "source": [
    "#filling missing values in testing data with median\n",
    "from sklearn.impute import SimpleImputer\n",
    "imputer = SimpleImputer(strategy='mean')\n",
    "test[tnum_cols] = imputer.fit_transform(test[tnum_cols])"
   ]
  },
  {
   "cell_type": "code",
   "execution_count": 11,
   "metadata": {},
   "outputs": [],
   "source": [
    "#dropping unnecessary columns\n",
    "data.drop(['SUBJECT_ID', 'HADM_ID','ADMITTIME','DISCHTIME', 'LANGUAGE', 'RELIGION'], axis=1, inplace=True)\n",
    "test.drop(['SUBJECT_ID', 'HADM_ID','ADMITTIME','DISCHTIME', 'LANGUAGE', 'RELIGION'], axis=1, inplace=True)"
   ]
  },
  {
   "cell_type": "code",
   "execution_count": 12,
   "metadata": {},
   "outputs": [
    {
     "name": "stdout",
     "output_type": "stream",
     "text": [
      "Feature 'AGE' has 74' unique categories\n",
      "Feature 'HR_MIN_DAY1' has 79365' unique categories\n",
      "Feature 'HR_MAX_DAY1' has 79462' unique categories\n",
      "Feature 'HR_MEAN_DAY1' has 79298' unique categories\n",
      "Feature 'SYS_BP_MIN_DAY1' has 79329' unique categories\n",
      "Feature 'SYS_BP_MAX_DAY1' has 79246' unique categories\n",
      "Feature 'SYS_BP_MEAN_DAY1' has 79362' unique categories\n",
      "Feature 'DIAS_BP_MIN_DAY1' has 79511' unique categories\n",
      "Feature 'DIAS_BP_MAX_DAY1' has 79393' unique categories\n",
      "Feature 'DIAS_BP_MEAN_DAY1' has 79387' unique categories\n",
      "Feature 'MEAN_BP_MIN_DAY1' has 79409' unique categories\n",
      "Feature 'MEAN_BP_MAX_DAY1' has 79512' unique categories\n",
      "Feature 'MEAN_BP_MEAN_DAY1' has 79138' unique categories\n",
      "Feature 'RESP_RATE_MIN_DAY1' has 79552' unique categories\n",
      "Feature 'RESP_RATE_MAX_DAY1' has 79563' unique categories\n",
      "Feature 'RESP_RATE_MEAN_DAY1' has 79505' unique categories\n",
      "Feature 'TEMP_MIN_DAY1' has 75975' unique categories\n",
      "Feature 'TEMP_MAX_DAY1' has 75272' unique categories\n",
      "Feature 'TEMP_MEAN_DAY1' has 74488' unique categories\n",
      "Feature 'SPO2_MIN_DAY1' has 77393' unique categories\n",
      "Feature 'SPO2_MAX_DAY1' has 71125' unique categories\n",
      "Feature 'SPO2_MEAN_DAY1' has 75247' unique categories\n",
      "Feature 'GLUCOSE_MIN_DAY1' has 79521' unique categories\n",
      "Feature 'GLUCOSE_MAX_DAY1' has 79546' unique categories\n",
      "Feature 'GLUCOSE_MEAN_DAY1' has 79630' unique categories\n",
      "Feature 'HR_MIN_DAY2' has 79428' unique categories\n",
      "Feature 'HR_MAX_DAY2' has 79458' unique categories\n",
      "Feature 'HR_MEAN_DAY2' has 79480' unique categories\n",
      "Feature 'SYS_BP_MIN_DAY2' has 79354' unique categories\n",
      "Feature 'SYS_BP_MAX_DAY2' has 79232' unique categories\n",
      "Feature 'SYS_BP_MEAN_DAY2' has 79376' unique categories\n",
      "Feature 'DIAS_BP_MIN_DAY2' has 79533' unique categories\n",
      "Feature 'DIAS_BP_MAX_DAY2' has 79391' unique categories\n",
      "Feature 'DIAS_BP_MEAN_DAY2' has 79367' unique categories\n",
      "Feature 'MEAN_BP_MIN_DAY2' has 79357' unique categories\n",
      "Feature 'MEAN_BP_MAX_DAY2' has 79524' unique categories\n",
      "Feature 'MEAN_BP_MEAN_DAY2' has 79180' unique categories\n",
      "Feature 'RESP_RATE_MIN_DAY2' has 79576' unique categories\n",
      "Feature 'RESP_RATE_MAX_DAY2' has 79522' unique categories\n",
      "Feature 'RESP_RATE_MEAN_DAY2' has 79446' unique categories\n",
      "Feature 'TEMP_MIN_DAY2' has 75276' unique categories\n",
      "Feature 'TEMP_MAX_DAY2' has 75041' unique categories\n",
      "Feature 'TEMP_MEAN_DAY2' has 74318' unique categories\n",
      "Feature 'SPO2_MIN_DAY2' has 77241' unique categories\n",
      "Feature 'SPO2_MAX_DAY2' has 74384' unique categories\n",
      "Feature 'SPO2_MEAN_DAY2' has 74669' unique categories\n",
      "Feature 'GLUCOSE_MIN_DAY2' has 79503' unique categories\n",
      "Feature 'GLUCOSE_MAX_DAY2' has 79473' unique categories\n",
      "Feature 'GLUCOSE_MEAN_DAY2' has 79520' unique categories\n",
      "Feature 'Tuberculosis' has 1' unique categories\n",
      "Feature 'Immuniz/scrn' has 1' unique categories\n",
      "Feature 'AcuteMI' has 2' unique categories\n",
      "Feature 'Coronathero' has 2' unique categories\n",
      "Feature 'Chestpain' has 1' unique categories\n",
      "Feature 'Pulmhartdx' has 2' unique categories\n",
      "Feature 'Othheartdx' has 1' unique categories\n",
      "Feature 'Conduction' has 2' unique categories\n",
      "Feature 'Dysrhythmia' has 2' unique categories\n",
      "Feature 'Cardiaarrst' has 2' unique categories\n",
      "Feature 'chf;nonhp' has 2' unique categories\n",
      "Feature 'AcuteCVD' has 2' unique categories\n",
      "Feature 'Hd/nckcancr' has 1' unique categories\n",
      "Feature 'Precereoccl' has 2' unique categories\n",
      "Feature 'OtherCVD' has 1' unique categories\n",
      "Feature 'TIA' has 1' unique categories\n",
      "Feature 'LateeffCVD' has 2' unique categories\n",
      "Feature 'Peripathero' has 2' unique categories\n",
      "Feature 'Aneurysm' has 2' unique categories\n",
      "Feature 'Artembolism' has 1' unique categories\n",
      "Feature 'Otcirculdx' has 2' unique categories\n",
      "Feature 'Phlebitis' has 2' unique categories\n",
      "Feature 'Varicosevn' has 1' unique categories\n",
      "Feature 'Esophcancer' has 1' unique categories\n",
      "Feature 'Hemmorhoids' has 1' unique categories\n",
      "Feature 'Othveindx' has 1' unique categories\n",
      "Feature 'Pneumonia' has 2' unique categories\n",
      "Feature 'Influenza' has 1' unique categories\n",
      "Feature 'Tonsillitis' has 1' unique categories\n",
      "Feature 'Bronchitis' has 1' unique categories\n",
      "Feature 'Otuprspin' has 1' unique categories\n",
      "Feature 'COPD' has 2' unique categories\n",
      "Feature 'Asthma' has 2' unique categories\n",
      "Feature 'Asppneumon' has 2' unique categories\n",
      "Feature 'Stomchcancr' has 1' unique categories\n",
      "Feature 'Pleurisy' has 2' unique categories\n",
      "Feature 'Adltrespfl' has 2' unique categories\n",
      "Feature 'Lungexternl' has 1' unique categories\n",
      "Feature 'Othlowresp' has 2' unique categories\n",
      "Feature 'Otupprresp' has 2' unique categories\n",
      "Feature 'Intestinfct' has 2' unique categories\n",
      "Feature 'Teethdx' has 1' unique categories\n",
      "Feature 'Mouthdx' has 1' unique categories\n",
      "Feature 'Esophgealdx' has 2' unique categories\n",
      "Feature 'Gasduoulcer' has 2' unique categories\n",
      "Feature 'Coloncancer' has 1' unique categories\n",
      "Feature 'Gastritis' has 2' unique categories\n",
      "Feature 'Otdxstomch' has 2' unique categories\n",
      "Feature 'Appendicitis' has 1' unique categories\n",
      "Feature 'Abdomhernia' has 2' unique categories\n",
      "Feature 'Ulceratcol' has 1' unique categories\n",
      "Feature 'Intobstruct' has 2' unique categories\n",
      "Feature 'Diverticulos' has 2' unique categories\n",
      "Feature 'Anal/rectal' has 1' unique categories\n",
      "Feature 'Peritonitis' has 2' unique categories\n",
      "Feature 'Biliarydx' has 2' unique categories\n",
      "Feature 'Rctm/anusca' has 1' unique categories\n",
      "Feature 'Othliverdx' has 2' unique categories\n",
      "Feature 'Pancreasdx' has 2' unique categories\n",
      "Feature 'GIhemorrhag' has 2' unique categories\n",
      "Feature 'Gastroent' has 1' unique categories\n",
      "Feature 'OtherGIdx' has 2' unique categories\n",
      "Feature 'Nephritis' has 1' unique categories\n",
      "Feature 'Acrenlfail' has 2' unique categories\n",
      "Feature 'Chrrenfail' has 2' unique categories\n",
      "Feature 'UTI' has 2' unique categories\n",
      "Feature 'Liver/ibdca' has 1' unique categories\n",
      "Feature 'Urinstone' has 1' unique categories\n",
      "Feature 'Otdxkidney' has 2' unique categories\n",
      "Feature 'Otdxbladdr' has 1' unique categories\n",
      "Feature 'OtherGUdx' has 2' unique categories\n",
      "Feature 'BPH' has 2' unique categories\n",
      "Feature 'Infmalegen' has 1' unique categories\n",
      "Feature 'Othmalegen' has 1' unique categories\n",
      "Feature 'Breastdx' has 1' unique categories\n",
      "Feature 'PID' has 1' unique categories\n",
      "Feature 'Endometrios' has 1' unique categories\n",
      "Feature 'Pancreascan' has 1' unique categories\n",
      "Feature 'Prolapse' has 1' unique categories\n",
      "Feature 'Menstrualdx' has 1' unique categories\n",
      "Feature 'Ovariancyst' has 1' unique categories\n",
      "Feature 'Menopausldx' has 1' unique categories\n",
      "Feature 'Feminfertil' has 1' unique categories\n",
      "Feature 'Otfemalgen' has 1' unique categories\n",
      "Feature 'Contraceptiv' has 1' unique categories\n",
      "Feature 'Spontabortn' has 1' unique categories\n",
      "Feature 'Inducabortn' has 1' unique categories\n",
      "Feature 'Abortcompl' has 1' unique categories\n",
      "Feature 'GI/peritcan' has 1' unique categories\n",
      "Feature 'Ectopicpreg' has 1' unique categories\n",
      "Feature 'Otpregcomp' has 1' unique categories\n",
      "Feature 'Hemorrpreg' has 1' unique categories\n",
      "Feature 'HTNinpreg' has 1' unique categories\n",
      "Feature 'Earlylabor' has 1' unique categories\n",
      "Feature 'Longpregncy' has 1' unique categories\n",
      "Feature 'DMinpreg' has 1' unique categories\n",
      "Feature 'Malposition' has 1' unique categories\n",
      "Feature 'Pelvicobstr' has 1' unique categories\n",
      "Feature 'Prevc-sectn' has 1' unique categories\n",
      "Feature 'Brnch/lngca' has 2' unique categories\n",
      "Feature 'Fetaldistrs' has 1' unique categories\n",
      "Feature 'Amniosdx' has 1' unique categories\n",
      "Feature 'Umbilcord' has 1' unique categories\n",
      "Feature 'OB-relatedperintrauma' has 1' unique categories\n",
      "Feature 'Otcomplbir' has 1' unique categories\n",
      "Feature 'Nmlpreg/del' has 1' unique categories\n",
      "Feature 'Skininfectn' has 2' unique categories\n",
      "Feature 'Otinflskin' has 1' unique categories\n",
      "Feature 'Ulcerskin' has 2' unique categories\n",
      "Feature 'Septicemia' has 2' unique categories\n",
      "Feature 'Otrespirca' has 1' unique categories\n",
      "Feature 'Othskindx' has 1' unique categories\n",
      "Feature 'Infectarth' has 1' unique categories\n",
      "Feature 'Rheumarth' has 1' unique categories\n",
      "Feature 'Osteoarthros' has 2' unique categories\n",
      "Feature 'Otjointdx' has 2' unique categories\n",
      "Feature 'Backproblem' has 2' unique categories\n",
      "Feature 'Osteoporosis' has 2' unique categories\n",
      "Feature 'Pathologfx' has 1' unique categories\n",
      "Feature 'Acqfootdef' has 1' unique categories\n",
      "Feature 'Otacqdefor' has 1' unique categories\n",
      "Feature 'Bone/ctcncr' has 1' unique categories\n",
      "Feature 'SLE' has 1' unique categories\n",
      "Feature 'Otconntiss' has 2' unique categories\n",
      "Feature 'Otbonedx' has 1' unique categories\n",
      "Feature 'Cardiacanom' has 2' unique categories\n",
      "Feature 'GIconganom' has 1' unique categories\n",
      "Feature 'guconganom' has 1' unique categories\n",
      "Feature 'Nervcongan' has 1' unique categories\n",
      "Feature 'Otconganom' has 1' unique categories\n",
      "Feature 'Liveborn' has 1' unique categories\n",
      "Feature 'Lowbirthwt' has 1' unique categories\n",
      "Feature 'Skinmelanom' has 1' unique categories\n",
      "Feature 'Birthasphyx' has 1' unique categories\n",
      "Feature 'Respdistres' has 1' unique categories\n",
      "Feature 'Perintjaund' has 1' unique categories\n",
      "Feature 'Birthtrauma' has 1' unique categories\n",
      "Feature 'Otperintdx' has 1' unique categories\n",
      "Feature 'Jointinjury' has 1' unique categories\n",
      "Feature 'Fxhip' has 1' unique categories\n",
      "Feature 'Spincorinj' has 1' unique categories\n",
      "Feature 'Fxskullfac' has 1' unique categories\n",
      "Feature 'Fxarm' has 2' unique categories\n",
      "Feature 'Non-epithca' has 1' unique categories\n",
      "Feature 'Fxleg' has 2' unique categories\n",
      "Feature 'Othfracture' has 2' unique categories\n",
      "Feature 'Sprain' has 1' unique categories\n",
      "Feature 'Intracrninj' has 2' unique categories\n",
      "Feature 'Crushinjury' has 2' unique categories\n",
      "Feature 'Opnwndhead' has 2' unique categories\n",
      "Feature 'Opnwndextr' has 1' unique categories\n",
      "Feature 'Complicdevi' has 2' unique categories\n",
      "Feature 'Complicproc' has 2' unique categories\n",
      "Feature 'Superficinj' has 1' unique categories\n",
      "Feature 'Breastcancr' has 2' unique categories\n",
      "Feature 'Burns' has 1' unique categories\n",
      "Feature 'Poisonpsych' has 1' unique categories\n",
      "Feature 'Poisnotmed' has 1' unique categories\n",
      "Feature 'Poisnnonmed' has 1' unique categories\n",
      "Feature 'Otherinjury' has 2' unique categories\n",
      "Feature 'Syncope' has 1' unique categories\n",
      "Feature 'FUO' has 1' unique categories\n",
      "Feature 'Lymphenlarg' has 1' unique categories\n",
      "Feature 'Gangrene' has 1' unique categories\n",
      "Feature 'Shock' has 2' unique categories\n",
      "Feature 'Uteruscancr' has 1' unique categories\n",
      "Feature 'Nausea/vomit' has 1' unique categories\n",
      "Feature 'Abdomnlpain' has 1' unique categories\n",
      "Feature 'Fatigue' has 1' unique categories\n",
      "Feature 'Allergy' has 2' unique categories\n",
      "Feature 'Socialadmin' has 1' unique categories\n",
      "Feature 'Exam/eval' has 1' unique categories\n",
      "Feature 'Otaftercare' has 2' unique categories\n",
      "Feature 'Otherscreen' has 1' unique categories\n",
      "Feature 'Unclassified' has 2' unique categories\n",
      "Feature 'Cervixcancr' has 1' unique categories\n",
      "Feature 'ECodes:Cut/pierce' has 1' unique categories\n",
      "Feature 'ECodes:Drowning/submersion' has 1' unique categories\n",
      "Feature 'ECodes:Fall' has 2' unique categories\n",
      "Feature 'ECodes:Fire/burn' has 1' unique categories\n",
      "Feature 'ECodes:Firearm' has 1' unique categories\n",
      "Feature 'ECodes:Machinery' has 1' unique categories\n",
      "Feature 'ecodes:motorvehicletraffic(mvt)' has 2' unique categories\n",
      "Feature 'ECodes:Pedalcyclist-notMVT' has 1' unique categories\n",
      "Feature 'ECodes:Pedestrian-notMVT' has 1' unique categories\n",
      "Feature 'ecodes:transport-notmvt' has 1' unique categories\n",
      "Feature 'ECodes:Natural/environment' has 1' unique categories\n",
      "Feature 'ECodes:Overexertion' has 1' unique categories\n",
      "Feature 'ECodes:Poisoning' has 1' unique categories\n",
      "Feature 'ECodes:Struckby-against' has 1' unique categories\n",
      "Feature 'ECodes:Suffocation' has 1' unique categories\n",
      "Feature 'ECodes:Adverseeffectsofmedicalcare' has 3' unique categories\n",
      "Feature 'ECodes:Adverseeffectsofmedicaldrugs' has 2' unique categories\n",
      "Feature 'ECodes:Otherspecifiedandclassifiable' has 1' unique categories\n",
      "Feature 'ecodes:otherspecified-nec' has 1' unique categories\n",
      "Feature 'ECodes:Unspecified' has 1' unique categories\n",
      "Feature 'ECodes:Placeofoccurrence' has 2' unique categories\n",
      "Feature 'Ovarycancer' has 1' unique categories\n",
      "Feature 'Femgenitca' has 1' unique categories\n",
      "Feature 'Prostatecan' has 2' unique categories\n",
      "Feature 'Othbactinf' has 2' unique categories\n",
      "Feature 'Testiscancr' has 1' unique categories\n",
      "Feature 'Malgenitca' has 1' unique categories\n",
      "Feature 'Bladdercncr' has 1' unique categories\n",
      "Feature 'Kidny/rnlca' has 1' unique categories\n"
     ]
    },
    {
     "name": "stdout",
     "output_type": "stream",
     "text": [
      "Feature 'Urinyorgca' has 1' unique categories\n",
      "Feature 'Brain/nscan' has 1' unique categories\n",
      "Feature 'Thyroidcncr' has 1' unique categories\n",
      "Feature 'Hodgkin-sds' has 1' unique categories\n",
      "Feature 'Non-Hodglym' has 1' unique categories\n",
      "Feature 'Leukemias' has 1' unique categories\n",
      "Feature 'Mycoses' has 2' unique categories\n",
      "Feature 'Multmyeloma' has 1' unique categories\n",
      "Feature 'Otprimryca' has 1' unique categories\n",
      "Feature '2ndarymalig' has 2' unique categories\n",
      "Feature 'Maligneopls' has 1' unique categories\n",
      "Feature 'Neoplsmunsp' has 1' unique categories\n",
      "Feature 'Maintchem/r' has 1' unique categories\n",
      "Feature 'Bnignutneo' has 1' unique categories\n",
      "Feature 'Otbnignneo' has 2' unique categories\n",
      "Feature 'Thyroiddsor' has 2' unique categories\n",
      "Feature 'DiabMelnoc' has 2' unique categories\n",
      "Feature 'HIVinfectn' has 1' unique categories\n",
      "Feature 'DiabMelw/cm' has 2' unique categories\n",
      "Feature 'Otendodsor' has 2' unique categories\n",
      "Feature 'Nutritdefic' has 2' unique categories\n",
      "Feature 'Hyperlipidem' has 2' unique categories\n",
      "Feature 'Gout/otcrys' has 2' unique categories\n",
      "Feature 'Fluid/elcdx' has 2' unique categories\n",
      "Feature 'Cysticfibro' has 1' unique categories\n",
      "Feature 'Immunitydx' has 1' unique categories\n",
      "Feature 'Otnutritdx' has 3' unique categories\n",
      "Feature 'Anemia' has 2' unique categories\n",
      "Feature 'Hepatitis' has 2' unique categories\n",
      "Feature 'Acutp-hanm' has 2' unique categories\n",
      "Feature 'Sicklecell' has 1' unique categories\n",
      "Feature 'Coag/hemrdx' has 2' unique categories\n",
      "Feature 'Whtblooddx' has 2' unique categories\n",
      "Feature 'Othematldx' has 1' unique categories\n",
      "Feature 'Adjustmentdisorders' has 1' unique categories\n",
      "Feature 'Anxietydisorders' has 2' unique categories\n",
      "Feature 'Attention-deficit/conduct/disruptivebeha' has 1' unique categories\n",
      "Feature 'Delirium/dementia/amnestic/othercognitiv' has 2' unique categories\n",
      "Feature 'Developmentaldisorders' has 1' unique categories\n",
      "Feature 'Disordersusuallydiagnosedininfancy/ch' has 1' unique categories\n",
      "Feature 'ImpulsecontroldisordersNEC' has 1' unique categories\n",
      "Feature 'Mooddisorders' has 2' unique categories\n",
      "Feature 'Personalitydisorders' has 1' unique categories\n",
      "Feature 'Schizophreniaandotherpsychoticdisorde' has 1' unique categories\n",
      "Feature 'Alcohol-relateddisorders' has 2' unique categories\n",
      "Feature 'Substance-relateddisorders' has 2' unique categories\n",
      "Feature 'Suicideandintentionalself-inflictedin' has 1' unique categories\n",
      "Feature 'Screeningandhistoryofmentalhealthan' has 2' unique categories\n",
      "Feature 'Miscellaneousmentaldisorders' has 1' unique categories\n",
      "Feature 'Viralinfect' has 1' unique categories\n",
      "Feature 'Meningitis' has 1' unique categories\n",
      "Feature 'Encephalitis' has 1' unique categories\n",
      "Feature 'OthCNSinfx' has 1' unique categories\n",
      "Feature 'Parkinson-s' has 1' unique categories\n",
      "Feature 'Othinfectns' has 1' unique categories\n",
      "Feature 'MS' has 1' unique categories\n",
      "Feature 'OtheredCNS' has 2' unique categories\n",
      "Feature 'Paralysis' has 2' unique categories\n",
      "Feature 'Epilepsy/cnv' has 2' unique categories\n",
      "Feature 'Headache/mig' has 1' unique categories\n",
      "Feature 'Coma/brndmg' has 2' unique categories\n",
      "Feature 'Cataract' has 1' unique categories\n",
      "Feature 'Retinaldx' has 2' unique categories\n",
      "Feature 'Glaucoma' has 2' unique categories\n",
      "Feature 'Blindness' has 1' unique categories\n",
      "Feature 'SexualInfxs' has 1' unique categories\n",
      "Feature 'Eyeinfectn' has 1' unique categories\n",
      "Feature 'Othereyedx' has 2' unique categories\n",
      "Feature 'Otitismedia' has 1' unique categories\n",
      "Feature 'Dizziness' has 1' unique categories\n",
      "Feature 'Othereardx' has 1' unique categories\n",
      "Feature 'Othnervdx' has 3' unique categories\n",
      "Feature 'Hrtvalvedx' has 2' unique categories\n",
      "Feature 'Carditis' has 2' unique categories\n",
      "Feature 'HTN' has 2' unique categories\n",
      "Feature 'Htncomplicn' has 2' unique categories\n"
     ]
    }
   ],
   "source": [
    "for name_col in data.columns:\n",
    "    if data[name_col].dtypes == float:\n",
    "        unique_cat = len(data[name_col].unique())\n",
    "        print(\"Feature '{name_col}' has {unique_cat}' unique categories\".format(\n",
    "             name_col = name_col,unique_cat = unique_cat))"
   ]
  },
  {
   "cell_type": "code",
   "execution_count": 13,
   "metadata": {},
   "outputs": [
    {
     "name": "stdout",
     "output_type": "stream",
     "text": [
      "Feature 'AGE' has 74' unique categories\n",
      "Feature 'HR_MIN_DAY1' has 79365' unique categories\n",
      "Feature 'HR_MAX_DAY1' has 79462' unique categories\n",
      "Feature 'HR_MEAN_DAY1' has 79298' unique categories\n",
      "Feature 'SYS_BP_MIN_DAY1' has 79329' unique categories\n",
      "Feature 'SYS_BP_MAX_DAY1' has 79246' unique categories\n",
      "Feature 'SYS_BP_MEAN_DAY1' has 79362' unique categories\n",
      "Feature 'DIAS_BP_MIN_DAY1' has 79511' unique categories\n",
      "Feature 'DIAS_BP_MAX_DAY1' has 79393' unique categories\n",
      "Feature 'DIAS_BP_MEAN_DAY1' has 79387' unique categories\n",
      "Feature 'MEAN_BP_MIN_DAY1' has 79409' unique categories\n",
      "Feature 'MEAN_BP_MAX_DAY1' has 79512' unique categories\n",
      "Feature 'MEAN_BP_MEAN_DAY1' has 79138' unique categories\n",
      "Feature 'RESP_RATE_MIN_DAY1' has 79552' unique categories\n",
      "Feature 'RESP_RATE_MAX_DAY1' has 79563' unique categories\n",
      "Feature 'RESP_RATE_MEAN_DAY1' has 79505' unique categories\n",
      "Feature 'TEMP_MIN_DAY1' has 75975' unique categories\n",
      "Feature 'TEMP_MAX_DAY1' has 75272' unique categories\n",
      "Feature 'TEMP_MEAN_DAY1' has 74488' unique categories\n",
      "Feature 'SPO2_MIN_DAY1' has 77393' unique categories\n",
      "Feature 'SPO2_MAX_DAY1' has 71125' unique categories\n",
      "Feature 'SPO2_MEAN_DAY1' has 75247' unique categories\n",
      "Feature 'GLUCOSE_MIN_DAY1' has 79521' unique categories\n",
      "Feature 'GLUCOSE_MAX_DAY1' has 79546' unique categories\n",
      "Feature 'GLUCOSE_MEAN_DAY1' has 79630' unique categories\n",
      "Feature 'HR_MIN_DAY2' has 79428' unique categories\n",
      "Feature 'HR_MAX_DAY2' has 79458' unique categories\n",
      "Feature 'HR_MEAN_DAY2' has 79480' unique categories\n",
      "Feature 'SYS_BP_MIN_DAY2' has 79354' unique categories\n",
      "Feature 'SYS_BP_MAX_DAY2' has 79232' unique categories\n",
      "Feature 'SYS_BP_MEAN_DAY2' has 79376' unique categories\n",
      "Feature 'DIAS_BP_MIN_DAY2' has 79533' unique categories\n",
      "Feature 'DIAS_BP_MAX_DAY2' has 79391' unique categories\n",
      "Feature 'DIAS_BP_MEAN_DAY2' has 79367' unique categories\n",
      "Feature 'MEAN_BP_MIN_DAY2' has 79357' unique categories\n",
      "Feature 'MEAN_BP_MAX_DAY2' has 79524' unique categories\n",
      "Feature 'MEAN_BP_MEAN_DAY2' has 79180' unique categories\n",
      "Feature 'RESP_RATE_MIN_DAY2' has 79576' unique categories\n",
      "Feature 'RESP_RATE_MAX_DAY2' has 79522' unique categories\n",
      "Feature 'RESP_RATE_MEAN_DAY2' has 79446' unique categories\n",
      "Feature 'TEMP_MIN_DAY2' has 75276' unique categories\n",
      "Feature 'TEMP_MAX_DAY2' has 75041' unique categories\n",
      "Feature 'TEMP_MEAN_DAY2' has 74318' unique categories\n",
      "Feature 'SPO2_MIN_DAY2' has 77241' unique categories\n",
      "Feature 'SPO2_MAX_DAY2' has 74384' unique categories\n",
      "Feature 'SPO2_MEAN_DAY2' has 74669' unique categories\n",
      "Feature 'GLUCOSE_MIN_DAY2' has 79503' unique categories\n",
      "Feature 'GLUCOSE_MAX_DAY2' has 79473' unique categories\n",
      "Feature 'GLUCOSE_MEAN_DAY2' has 79520' unique categories\n",
      "Feature 'Tuberculosis' has 1' unique categories\n",
      "Feature 'Immuniz/scrn' has 1' unique categories\n",
      "Feature 'AcuteMI' has 2' unique categories\n",
      "Feature 'Coronathero' has 2' unique categories\n",
      "Feature 'Chestpain' has 1' unique categories\n",
      "Feature 'Pulmhartdx' has 2' unique categories\n",
      "Feature 'Othheartdx' has 1' unique categories\n",
      "Feature 'Conduction' has 2' unique categories\n",
      "Feature 'Dysrhythmia' has 2' unique categories\n",
      "Feature 'Cardiaarrst' has 2' unique categories\n",
      "Feature 'chf;nonhp' has 2' unique categories\n",
      "Feature 'AcuteCVD' has 2' unique categories\n",
      "Feature 'Hd/nckcancr' has 1' unique categories\n",
      "Feature 'Precereoccl' has 2' unique categories\n",
      "Feature 'OtherCVD' has 1' unique categories\n",
      "Feature 'TIA' has 1' unique categories\n",
      "Feature 'LateeffCVD' has 2' unique categories\n",
      "Feature 'Peripathero' has 2' unique categories\n",
      "Feature 'Aneurysm' has 2' unique categories\n",
      "Feature 'Artembolism' has 1' unique categories\n",
      "Feature 'Otcirculdx' has 2' unique categories\n",
      "Feature 'Phlebitis' has 2' unique categories\n",
      "Feature 'Varicosevn' has 1' unique categories\n",
      "Feature 'Esophcancer' has 1' unique categories\n",
      "Feature 'Hemmorhoids' has 1' unique categories\n",
      "Feature 'Othveindx' has 1' unique categories\n",
      "Feature 'Pneumonia' has 2' unique categories\n",
      "Feature 'Influenza' has 1' unique categories\n",
      "Feature 'Tonsillitis' has 1' unique categories\n",
      "Feature 'Bronchitis' has 1' unique categories\n",
      "Feature 'Otuprspin' has 1' unique categories\n",
      "Feature 'COPD' has 2' unique categories\n",
      "Feature 'Asthma' has 2' unique categories\n",
      "Feature 'Asppneumon' has 2' unique categories\n",
      "Feature 'Stomchcancr' has 1' unique categories\n",
      "Feature 'Pleurisy' has 2' unique categories\n",
      "Feature 'Adltrespfl' has 2' unique categories\n",
      "Feature 'Lungexternl' has 1' unique categories\n",
      "Feature 'Othlowresp' has 2' unique categories\n",
      "Feature 'Otupprresp' has 2' unique categories\n",
      "Feature 'Intestinfct' has 2' unique categories\n",
      "Feature 'Teethdx' has 1' unique categories\n",
      "Feature 'Mouthdx' has 1' unique categories\n",
      "Feature 'Esophgealdx' has 2' unique categories\n",
      "Feature 'Gasduoulcer' has 2' unique categories\n",
      "Feature 'Coloncancer' has 1' unique categories\n",
      "Feature 'Gastritis' has 2' unique categories\n",
      "Feature 'Otdxstomch' has 2' unique categories\n",
      "Feature 'Appendicitis' has 1' unique categories\n",
      "Feature 'Abdomhernia' has 2' unique categories\n",
      "Feature 'Ulceratcol' has 1' unique categories\n",
      "Feature 'Intobstruct' has 2' unique categories\n",
      "Feature 'Diverticulos' has 2' unique categories\n",
      "Feature 'Anal/rectal' has 1' unique categories\n",
      "Feature 'Peritonitis' has 2' unique categories\n",
      "Feature 'Biliarydx' has 2' unique categories\n",
      "Feature 'Rctm/anusca' has 1' unique categories\n",
      "Feature 'Othliverdx' has 2' unique categories\n",
      "Feature 'Pancreasdx' has 2' unique categories\n",
      "Feature 'GIhemorrhag' has 2' unique categories\n",
      "Feature 'Gastroent' has 1' unique categories\n",
      "Feature 'OtherGIdx' has 2' unique categories\n",
      "Feature 'Nephritis' has 1' unique categories\n",
      "Feature 'Acrenlfail' has 2' unique categories\n",
      "Feature 'Chrrenfail' has 2' unique categories\n",
      "Feature 'UTI' has 2' unique categories\n",
      "Feature 'Liver/ibdca' has 1' unique categories\n",
      "Feature 'Urinstone' has 1' unique categories\n",
      "Feature 'Otdxkidney' has 2' unique categories\n",
      "Feature 'Otdxbladdr' has 1' unique categories\n",
      "Feature 'OtherGUdx' has 2' unique categories\n",
      "Feature 'BPH' has 2' unique categories\n",
      "Feature 'Infmalegen' has 1' unique categories\n",
      "Feature 'Othmalegen' has 1' unique categories\n",
      "Feature 'Breastdx' has 1' unique categories\n",
      "Feature 'PID' has 1' unique categories\n",
      "Feature 'Endometrios' has 1' unique categories\n",
      "Feature 'Pancreascan' has 1' unique categories\n",
      "Feature 'Prolapse' has 1' unique categories\n",
      "Feature 'Menstrualdx' has 1' unique categories\n",
      "Feature 'Ovariancyst' has 1' unique categories\n",
      "Feature 'Menopausldx' has 1' unique categories\n",
      "Feature 'Feminfertil' has 1' unique categories\n",
      "Feature 'Otfemalgen' has 1' unique categories\n",
      "Feature 'Contraceptiv' has 1' unique categories\n",
      "Feature 'Spontabortn' has 1' unique categories\n",
      "Feature 'Inducabortn' has 1' unique categories\n",
      "Feature 'Abortcompl' has 1' unique categories\n",
      "Feature 'GI/peritcan' has 1' unique categories\n",
      "Feature 'Ectopicpreg' has 1' unique categories\n",
      "Feature 'Otpregcomp' has 1' unique categories\n",
      "Feature 'Hemorrpreg' has 1' unique categories\n",
      "Feature 'HTNinpreg' has 1' unique categories\n",
      "Feature 'Earlylabor' has 1' unique categories\n",
      "Feature 'Longpregncy' has 1' unique categories\n",
      "Feature 'DMinpreg' has 1' unique categories\n",
      "Feature 'Malposition' has 1' unique categories\n",
      "Feature 'Pelvicobstr' has 1' unique categories\n",
      "Feature 'Prevc-sectn' has 1' unique categories\n",
      "Feature 'Brnch/lngca' has 2' unique categories\n",
      "Feature 'Fetaldistrs' has 1' unique categories\n",
      "Feature 'Amniosdx' has 1' unique categories\n",
      "Feature 'Umbilcord' has 1' unique categories\n",
      "Feature 'OB-relatedperintrauma' has 1' unique categories\n",
      "Feature 'Otcomplbir' has 1' unique categories\n",
      "Feature 'Nmlpreg/del' has 1' unique categories\n",
      "Feature 'Skininfectn' has 2' unique categories\n",
      "Feature 'Otinflskin' has 1' unique categories\n",
      "Feature 'Ulcerskin' has 2' unique categories\n",
      "Feature 'Septicemia' has 2' unique categories\n",
      "Feature 'Otrespirca' has 1' unique categories\n",
      "Feature 'Othskindx' has 1' unique categories\n",
      "Feature 'Infectarth' has 1' unique categories\n",
      "Feature 'Rheumarth' has 1' unique categories\n",
      "Feature 'Osteoarthros' has 2' unique categories\n",
      "Feature 'Otjointdx' has 2' unique categories\n",
      "Feature 'Backproblem' has 2' unique categories\n",
      "Feature 'Osteoporosis' has 2' unique categories\n",
      "Feature 'Pathologfx' has 1' unique categories\n",
      "Feature 'Acqfootdef' has 1' unique categories\n",
      "Feature 'Otacqdefor' has 1' unique categories\n",
      "Feature 'Bone/ctcncr' has 1' unique categories\n",
      "Feature 'SLE' has 1' unique categories\n",
      "Feature 'Otconntiss' has 2' unique categories\n",
      "Feature 'Otbonedx' has 1' unique categories\n",
      "Feature 'Cardiacanom' has 2' unique categories\n",
      "Feature 'GIconganom' has 1' unique categories\n",
      "Feature 'guconganom' has 1' unique categories\n",
      "Feature 'Nervcongan' has 1' unique categories\n",
      "Feature 'Otconganom' has 1' unique categories\n",
      "Feature 'Liveborn' has 1' unique categories\n",
      "Feature 'Lowbirthwt' has 1' unique categories\n",
      "Feature 'Skinmelanom' has 1' unique categories\n",
      "Feature 'Birthasphyx' has 1' unique categories\n",
      "Feature 'Respdistres' has 1' unique categories\n",
      "Feature 'Perintjaund' has 1' unique categories\n",
      "Feature 'Birthtrauma' has 1' unique categories\n",
      "Feature 'Otperintdx' has 1' unique categories\n",
      "Feature 'Jointinjury' has 1' unique categories\n",
      "Feature 'Fxhip' has 1' unique categories\n",
      "Feature 'Spincorinj' has 1' unique categories\n",
      "Feature 'Fxskullfac' has 1' unique categories\n",
      "Feature 'Fxarm' has 2' unique categories\n",
      "Feature 'Non-epithca' has 1' unique categories\n",
      "Feature 'Fxleg' has 2' unique categories\n",
      "Feature 'Othfracture' has 2' unique categories\n",
      "Feature 'Sprain' has 1' unique categories\n",
      "Feature 'Intracrninj' has 2' unique categories\n",
      "Feature 'Crushinjury' has 2' unique categories\n",
      "Feature 'Opnwndhead' has 2' unique categories\n",
      "Feature 'Opnwndextr' has 1' unique categories\n",
      "Feature 'Complicdevi' has 2' unique categories\n",
      "Feature 'Complicproc' has 2' unique categories\n",
      "Feature 'Superficinj' has 1' unique categories\n",
      "Feature 'Breastcancr' has 2' unique categories\n",
      "Feature 'Burns' has 1' unique categories\n",
      "Feature 'Poisonpsych' has 1' unique categories\n",
      "Feature 'Poisnotmed' has 1' unique categories\n",
      "Feature 'Poisnnonmed' has 1' unique categories\n",
      "Feature 'Otherinjury' has 2' unique categories\n",
      "Feature 'Syncope' has 1' unique categories\n",
      "Feature 'FUO' has 1' unique categories\n",
      "Feature 'Lymphenlarg' has 1' unique categories\n",
      "Feature 'Gangrene' has 1' unique categories\n",
      "Feature 'Shock' has 2' unique categories\n",
      "Feature 'Uteruscancr' has 1' unique categories\n",
      "Feature 'Nausea/vomit' has 1' unique categories\n",
      "Feature 'Abdomnlpain' has 1' unique categories\n",
      "Feature 'Fatigue' has 1' unique categories\n",
      "Feature 'Allergy' has 2' unique categories\n",
      "Feature 'Socialadmin' has 1' unique categories\n"
     ]
    },
    {
     "name": "stdout",
     "output_type": "stream",
     "text": [
      "Feature 'Exam/eval' has 1' unique categories\n",
      "Feature 'Otaftercare' has 2' unique categories\n",
      "Feature 'Otherscreen' has 1' unique categories\n",
      "Feature 'Unclassified' has 2' unique categories\n",
      "Feature 'Cervixcancr' has 1' unique categories\n",
      "Feature 'ECodes:Cut/pierce' has 1' unique categories\n",
      "Feature 'ECodes:Drowning/submersion' has 1' unique categories\n",
      "Feature 'ECodes:Fall' has 2' unique categories\n",
      "Feature 'ECodes:Fire/burn' has 1' unique categories\n",
      "Feature 'ECodes:Firearm' has 1' unique categories\n",
      "Feature 'ECodes:Machinery' has 1' unique categories\n",
      "Feature 'ecodes:motorvehicletraffic(mvt)' has 2' unique categories\n",
      "Feature 'ECodes:Pedalcyclist-notMVT' has 1' unique categories\n",
      "Feature 'ECodes:Pedestrian-notMVT' has 1' unique categories\n",
      "Feature 'ecodes:transport-notmvt' has 1' unique categories\n",
      "Feature 'ECodes:Natural/environment' has 1' unique categories\n",
      "Feature 'ECodes:Overexertion' has 1' unique categories\n",
      "Feature 'ECodes:Poisoning' has 1' unique categories\n",
      "Feature 'ECodes:Struckby-against' has 1' unique categories\n",
      "Feature 'ECodes:Suffocation' has 1' unique categories\n",
      "Feature 'ECodes:Adverseeffectsofmedicalcare' has 3' unique categories\n",
      "Feature 'ECodes:Adverseeffectsofmedicaldrugs' has 2' unique categories\n",
      "Feature 'ECodes:Otherspecifiedandclassifiable' has 1' unique categories\n",
      "Feature 'ecodes:otherspecified-nec' has 1' unique categories\n",
      "Feature 'ECodes:Unspecified' has 1' unique categories\n",
      "Feature 'ECodes:Placeofoccurrence' has 2' unique categories\n",
      "Feature 'Ovarycancer' has 1' unique categories\n",
      "Feature 'Femgenitca' has 1' unique categories\n",
      "Feature 'Prostatecan' has 2' unique categories\n",
      "Feature 'Othbactinf' has 2' unique categories\n",
      "Feature 'Testiscancr' has 1' unique categories\n",
      "Feature 'Malgenitca' has 1' unique categories\n",
      "Feature 'Bladdercncr' has 1' unique categories\n",
      "Feature 'Kidny/rnlca' has 1' unique categories\n",
      "Feature 'Urinyorgca' has 1' unique categories\n",
      "Feature 'Brain/nscan' has 1' unique categories\n",
      "Feature 'Thyroidcncr' has 1' unique categories\n",
      "Feature 'Hodgkin-sds' has 1' unique categories\n",
      "Feature 'Non-Hodglym' has 1' unique categories\n",
      "Feature 'Leukemias' has 1' unique categories\n",
      "Feature 'Mycoses' has 2' unique categories\n",
      "Feature 'Multmyeloma' has 1' unique categories\n",
      "Feature 'Otprimryca' has 1' unique categories\n",
      "Feature '2ndarymalig' has 2' unique categories\n",
      "Feature 'Maligneopls' has 1' unique categories\n",
      "Feature 'Neoplsmunsp' has 1' unique categories\n",
      "Feature 'Maintchem/r' has 1' unique categories\n",
      "Feature 'Bnignutneo' has 1' unique categories\n",
      "Feature 'Otbnignneo' has 2' unique categories\n",
      "Feature 'Thyroiddsor' has 2' unique categories\n",
      "Feature 'DiabMelnoc' has 2' unique categories\n",
      "Feature 'HIVinfectn' has 1' unique categories\n",
      "Feature 'DiabMelw/cm' has 2' unique categories\n",
      "Feature 'Otendodsor' has 2' unique categories\n",
      "Feature 'Nutritdefic' has 2' unique categories\n",
      "Feature 'Hyperlipidem' has 2' unique categories\n",
      "Feature 'Gout/otcrys' has 2' unique categories\n",
      "Feature 'Fluid/elcdx' has 2' unique categories\n",
      "Feature 'Cysticfibro' has 1' unique categories\n",
      "Feature 'Immunitydx' has 1' unique categories\n",
      "Feature 'Otnutritdx' has 3' unique categories\n",
      "Feature 'Anemia' has 2' unique categories\n",
      "Feature 'Hepatitis' has 2' unique categories\n",
      "Feature 'Acutp-hanm' has 2' unique categories\n",
      "Feature 'Sicklecell' has 1' unique categories\n",
      "Feature 'Coag/hemrdx' has 2' unique categories\n",
      "Feature 'Whtblooddx' has 2' unique categories\n",
      "Feature 'Othematldx' has 1' unique categories\n",
      "Feature 'Adjustmentdisorders' has 1' unique categories\n",
      "Feature 'Anxietydisorders' has 2' unique categories\n",
      "Feature 'Attention-deficit/conduct/disruptivebeha' has 1' unique categories\n",
      "Feature 'Delirium/dementia/amnestic/othercognitiv' has 2' unique categories\n",
      "Feature 'Developmentaldisorders' has 1' unique categories\n",
      "Feature 'Disordersusuallydiagnosedininfancy/ch' has 1' unique categories\n",
      "Feature 'ImpulsecontroldisordersNEC' has 1' unique categories\n",
      "Feature 'Mooddisorders' has 2' unique categories\n",
      "Feature 'Personalitydisorders' has 1' unique categories\n",
      "Feature 'Schizophreniaandotherpsychoticdisorde' has 1' unique categories\n",
      "Feature 'Alcohol-relateddisorders' has 2' unique categories\n",
      "Feature 'Substance-relateddisorders' has 2' unique categories\n",
      "Feature 'Suicideandintentionalself-inflictedin' has 1' unique categories\n",
      "Feature 'Screeningandhistoryofmentalhealthan' has 2' unique categories\n",
      "Feature 'Miscellaneousmentaldisorders' has 1' unique categories\n",
      "Feature 'Viralinfect' has 1' unique categories\n",
      "Feature 'Meningitis' has 1' unique categories\n",
      "Feature 'Encephalitis' has 1' unique categories\n",
      "Feature 'OthCNSinfx' has 1' unique categories\n",
      "Feature 'Parkinson-s' has 1' unique categories\n",
      "Feature 'Othinfectns' has 1' unique categories\n",
      "Feature 'MS' has 1' unique categories\n",
      "Feature 'OtheredCNS' has 2' unique categories\n",
      "Feature 'Paralysis' has 2' unique categories\n",
      "Feature 'Epilepsy/cnv' has 2' unique categories\n",
      "Feature 'Headache/mig' has 1' unique categories\n",
      "Feature 'Coma/brndmg' has 2' unique categories\n",
      "Feature 'Cataract' has 1' unique categories\n",
      "Feature 'Retinaldx' has 2' unique categories\n",
      "Feature 'Glaucoma' has 2' unique categories\n",
      "Feature 'Blindness' has 1' unique categories\n",
      "Feature 'SexualInfxs' has 1' unique categories\n",
      "Feature 'Eyeinfectn' has 1' unique categories\n",
      "Feature 'Othereyedx' has 2' unique categories\n",
      "Feature 'Otitismedia' has 1' unique categories\n",
      "Feature 'Dizziness' has 1' unique categories\n",
      "Feature 'Othereardx' has 1' unique categories\n",
      "Feature 'Othnervdx' has 3' unique categories\n",
      "Feature 'Hrtvalvedx' has 2' unique categories\n",
      "Feature 'Carditis' has 2' unique categories\n",
      "Feature 'HTN' has 2' unique categories\n",
      "Feature 'Htncomplicn' has 2' unique categories\n"
     ]
    }
   ],
   "source": [
    "for name_col in test.columns:\n",
    "    if data[name_col].dtypes == float:\n",
    "        unique_cat = len(data[name_col].unique())\n",
    "        print(\"Feature '{name_col}' has {unique_cat}' unique categories\".format(\n",
    "             name_col = name_col,unique_cat = unique_cat))"
   ]
  },
  {
   "cell_type": "code",
   "execution_count": 14,
   "metadata": {},
   "outputs": [
    {
     "name": "stdout",
     "output_type": "stream",
     "text": [
      "Feature 'INSURANCE' has 5' unique categories\n",
      "Feature 'MARITAL_STATUS' has 7' unique categories\n",
      "Feature 'ETHNICITY' has 41' unique categories\n",
      "Feature 'GENDER' has 2' unique categories\n",
      "Feature 'ICU' has 5' unique categories\n"
     ]
    }
   ],
   "source": [
    "for name_col in data.columns:\n",
    "    if data[name_col].dtypes == 'object':\n",
    "        unique_cat = len(data[name_col].unique())\n",
    "        print(\"Feature '{name_col}' has {unique_cat}' unique categories\".format(\n",
    "             name_col = name_col,unique_cat = unique_cat))"
   ]
  },
  {
   "cell_type": "code",
   "execution_count": 15,
   "metadata": {},
   "outputs": [
    {
     "name": "stdout",
     "output_type": "stream",
     "text": [
      "Feature 'INSURANCE' has 5' unique categories\n",
      "Feature 'MARITAL_STATUS' has 7' unique categories\n",
      "Feature 'ETHNICITY' has 39' unique categories\n",
      "Feature 'GENDER' has 2' unique categories\n",
      "Feature 'ICU' has 5' unique categories\n"
     ]
    }
   ],
   "source": [
    "for name_col in test.columns:\n",
    "    if data[name_col].dtypes == 'object':\n",
    "        unique_cat = len(test[name_col].unique())\n",
    "        print(\"Feature '{name_col}' has {unique_cat}' unique categories\".format(\n",
    "             name_col = name_col,unique_cat = unique_cat))"
   ]
  },
  {
   "cell_type": "code",
   "execution_count": 16,
   "metadata": {},
   "outputs": [],
   "source": [
    "data[\"ETHNICITY\"]= data[\"ETHNICITY\"].replace(\"UNKNOWN/NOT_SPECIFIED\", \"OTHER\")\n",
    "data[\"ETHNICITY\"]= data[\"ETHNICITY\"].replace(\"UNABLE_TO_OBTAIN\", \"OTHER\")\n",
    "data[\"ETHNICITY\"]= data[\"ETHNICITY\"].replace(\"PATIENT_DECLINED_TO_ANSWER\", \"OTHER\")\n",
    "data[\"ETHNICITY\"]= data[\"ETHNICITY\"].replace(\"AMERICAN_INDIAN/ALASKA_NATIVE_FEDERALLY_RECOGNIZED_TRIBE\", \"OTHER\")\n",
    "data[\"ETHNICITY\"]= data[\"ETHNICITY\"].replace(\"HISPANIC/LATINO_-_HONDURAN\", \"OTHER\")\n",
    "\n",
    "test[\"ETHNICITY\"]= test[\"ETHNICITY\"].replace(\"UNKNOWN/NOT_SPECIFIED\", \"OTHER\")\n",
    "test[\"ETHNICITY\"]= test[\"ETHNICITY\"].replace(\"UNABLE_TO_OBTAIN\", \"OTHER\")\n",
    "test[\"ETHNICITY\"]= test[\"ETHNICITY\"].replace(\"PATIENT_DECLINED_TO_ANSWER\", \"OTHER\")"
   ]
  },
  {
   "cell_type": "code",
   "execution_count": 17,
   "metadata": {},
   "outputs": [],
   "source": [
    "imp_ft = []\n",
    "nimp_ft = []\n",
    "for name_col in data.columns:\n",
    "    if data[name_col].dtypes == float:\n",
    "        unique_cat = len(data[name_col].unique())\n",
    "        if(unique_cat>1):\n",
    "            imp_ft.append(name_col)\n",
    "            nimp_ft.append(name_col)"
   ]
  },
  {
   "cell_type": "code",
   "execution_count": 18,
   "metadata": {},
   "outputs": [],
   "source": [
    "cimp_ft = []\n",
    "for name_col in data.columns:\n",
    "    if data[name_col].dtypes == 'object':\n",
    "        imp_ft.append(name_col)\n",
    "        cimp_ft.append(name_col)"
   ]
  },
  {
   "cell_type": "code",
   "execution_count": 19,
   "metadata": {},
   "outputs": [
    {
     "data": {
      "text/plain": [
       "162"
      ]
     },
     "execution_count": 19,
     "metadata": {},
     "output_type": "execute_result"
    }
   ],
   "source": [
    "len(imp_ft)"
   ]
  },
  {
   "cell_type": "code",
   "execution_count": 20,
   "metadata": {},
   "outputs": [],
   "source": [
    "fdata=data[imp_ft]"
   ]
  },
  {
   "cell_type": "code",
   "execution_count": 21,
   "metadata": {},
   "outputs": [],
   "source": [
    "ftest=test[imp_ft]"
   ]
  },
  {
   "cell_type": "code",
   "execution_count": 22,
   "metadata": {},
   "outputs": [],
   "source": [
    "Gender_mapping={'M':0,'F':1}                       # convert string to numeric\n",
    "fdata['GENDER']=fdata['GENDER'].map(Gender_mapping)\n",
    "ftest['GENDER']=ftest['GENDER'].map(Gender_mapping)"
   ]
  },
  {
   "cell_type": "code",
   "execution_count": 23,
   "metadata": {},
   "outputs": [],
   "source": [
    "fdata.to_csv(\"mytrain.csv\")   #preprocessed training file"
   ]
  },
  {
   "cell_type": "code",
   "execution_count": 24,
   "metadata": {},
   "outputs": [],
   "source": [
    "ftest.to_csv(\"mytest.csv\")    #peprocessed test file"
   ]
  },
  {
   "cell_type": "code",
   "execution_count": 25,
   "metadata": {},
   "outputs": [],
   "source": [
    "died = pd.read_table('public_dat\\mimic_synthetic_train.solution',sep='\\n',header=None)   #solution of training data set"
   ]
  },
  {
   "cell_type": "code",
   "execution_count": 26,
   "metadata": {},
   "outputs": [],
   "source": [
    "died.columns = ['DIED']"
   ]
  },
  {
   "cell_type": "code",
   "execution_count": 27,
   "metadata": {},
   "outputs": [],
   "source": [
    "fdata = pd.get_dummies(fdata)   #one-hot encoding(for string variables)"
   ]
  },
  {
   "cell_type": "code",
   "execution_count": 28,
   "metadata": {},
   "outputs": [],
   "source": [
    "ftest = pd.get_dummies(ftest)    #one-hot encoding"
   ]
  },
  {
   "cell_type": "code",
   "execution_count": 29,
   "metadata": {},
   "outputs": [],
   "source": [
    "fdata = pd.concat([fdata,died],axis=1)    #adding died as the last column"
   ]
  },
  {
   "cell_type": "code",
   "execution_count": 30,
   "metadata": {},
   "outputs": [],
   "source": [
    "from sklearn import preprocessing\n",
    "#for training data\n",
    "x = fdata.values #returns a numpy array\n",
    "min_max_scaler = preprocessing.MinMaxScaler()\n",
    "x_scaled = min_max_scaler.fit_transform(x)\n",
    "fdata = pd.DataFrame(x_scaled)              #changing the array to a Data Frame\n",
    "\n",
    "#for test data\n",
    "x = ftest.values #returns a numpy array\n",
    "min_max_scaler = preprocessing.MinMaxScaler()\n",
    "x_scaled = min_max_scaler.fit_transform(x)\n",
    "ftest = pd.DataFrame(x_scaled)"
   ]
  },
  {
   "cell_type": "code",
   "execution_count": 31,
   "metadata": {},
   "outputs": [],
   "source": [
    "X = fdata.iloc[:,:-1]         #Train data without output class\n",
    "Y = fdata.iloc[:,-1:]         #solution of train data"
   ]
  },
  {
   "cell_type": "code",
   "execution_count": 32,
   "metadata": {},
   "outputs": [],
   "source": [
    "from sklearn.model_selection import train_test_split            #Split data into train & test data \n",
    "x_train_res, x_test, y_train_res, y_test = train_test_split(X, Y , test_size = 0.20, random_state = 100)"
   ]
  },
  {
   "cell_type": "code",
   "execution_count": 33,
   "metadata": {},
   "outputs": [],
   "source": [
    "X=pd.DataFrame(x_train_res)\n",
    "Y=pd.DataFrame(y_train_res)"
   ]
  },
  {
   "cell_type": "code",
   "execution_count": 34,
   "metadata": {},
   "outputs": [
    {
     "name": "stdout",
     "output_type": "stream",
     "text": [
      "61783\n",
      "61783\n"
     ]
    }
   ],
   "source": [
    "# SMOTE\n",
    "from imblearn.over_sampling import SMOTE                        # Balance imbalance data\n",
    "sm = SMOTE(random_state=2)\n",
    "X, Y = sm.fit_resample(X, np.ravel(Y))\n",
    "print(sum(Y==0))\n",
    "print(sum(Y==1))"
   ]
  },
  {
   "cell_type": "code",
   "execution_count": 35,
   "metadata": {},
   "outputs": [],
   "source": [
    "# MODEL TESTING"
   ]
  },
  {
   "cell_type": "code",
   "execution_count": 36,
   "metadata": {},
   "outputs": [
    {
     "name": "stdout",
     "output_type": "stream",
     "text": [
      "78.86\n"
     ]
    }
   ],
   "source": [
    "#Logistic Regression  \n",
    "from sklearn.linear_model import LogisticRegression\n",
    "\n",
    "logreg = LogisticRegression()                                    #Logistic Regression\n",
    "logreg.fit(X, Y)\n",
    "y_pred_logreg = logreg.predict(x_test)\n",
    "\n",
    "acc_logreg = round(accuracy_score(y_pred_logreg, y_test) * 100, 2)      # Find Accuracy\n",
    "print(acc_logreg)"
   ]
  },
  {
   "cell_type": "code",
   "execution_count": 37,
   "metadata": {},
   "outputs": [],
   "source": [
    "ty_pred_logreg = logreg.predict(ftest)"
   ]
  },
  {
   "cell_type": "code",
   "execution_count": 38,
   "metadata": {},
   "outputs": [],
   "source": [
    "c = 0\n",
    "for i in ty_pred_logreg:\n",
    "    if i == 1:\n",
    "        c+=1"
   ]
  },
  {
   "cell_type": "code",
   "execution_count": 39,
   "metadata": {},
   "outputs": [
    {
     "data": {
      "text/plain": [
       "5396"
      ]
     },
     "execution_count": 39,
     "metadata": {},
     "output_type": "execute_result"
    }
   ],
   "source": [
    "c"
   ]
  },
  {
   "cell_type": "code",
   "execution_count": 40,
   "metadata": {},
   "outputs": [],
   "source": [
    "over_log = pd.DataFrame(ty_pred_logreg)"
   ]
  },
  {
   "cell_type": "code",
   "execution_count": 41,
   "metadata": {},
   "outputs": [
    {
     "data": {
      "text/html": [
       "<div>\n",
       "<style scoped>\n",
       "    .dataframe tbody tr th:only-of-type {\n",
       "        vertical-align: middle;\n",
       "    }\n",
       "\n",
       "    .dataframe tbody tr th {\n",
       "        vertical-align: top;\n",
       "    }\n",
       "\n",
       "    .dataframe thead th {\n",
       "        text-align: right;\n",
       "    }\n",
       "</style>\n",
       "<table border=\"1\" class=\"dataframe\">\n",
       "  <thead>\n",
       "    <tr style=\"text-align: right;\">\n",
       "      <th></th>\n",
       "      <th>0</th>\n",
       "    </tr>\n",
       "  </thead>\n",
       "  <tbody>\n",
       "    <tr>\n",
       "      <td>0</td>\n",
       "      <td>1.0</td>\n",
       "    </tr>\n",
       "    <tr>\n",
       "      <td>1</td>\n",
       "      <td>0.0</td>\n",
       "    </tr>\n",
       "    <tr>\n",
       "      <td>2</td>\n",
       "      <td>0.0</td>\n",
       "    </tr>\n",
       "    <tr>\n",
       "      <td>3</td>\n",
       "      <td>0.0</td>\n",
       "    </tr>\n",
       "    <tr>\n",
       "      <td>4</td>\n",
       "      <td>0.0</td>\n",
       "    </tr>\n",
       "    <tr>\n",
       "      <td>...</td>\n",
       "      <td>...</td>\n",
       "    </tr>\n",
       "    <tr>\n",
       "      <td>19996</td>\n",
       "      <td>0.0</td>\n",
       "    </tr>\n",
       "    <tr>\n",
       "      <td>19997</td>\n",
       "      <td>1.0</td>\n",
       "    </tr>\n",
       "    <tr>\n",
       "      <td>19998</td>\n",
       "      <td>0.0</td>\n",
       "    </tr>\n",
       "    <tr>\n",
       "      <td>19999</td>\n",
       "      <td>0.0</td>\n",
       "    </tr>\n",
       "    <tr>\n",
       "      <td>20000</td>\n",
       "      <td>0.0</td>\n",
       "    </tr>\n",
       "  </tbody>\n",
       "</table>\n",
       "<p>20001 rows × 1 columns</p>\n",
       "</div>"
      ],
      "text/plain": [
       "         0\n",
       "0      1.0\n",
       "1      0.0\n",
       "2      0.0\n",
       "3      0.0\n",
       "4      0.0\n",
       "...    ...\n",
       "19996  0.0\n",
       "19997  1.0\n",
       "19998  0.0\n",
       "19999  0.0\n",
       "20000  0.0\n",
       "\n",
       "[20001 rows x 1 columns]"
      ]
     },
     "execution_count": 41,
     "metadata": {},
     "output_type": "execute_result"
    }
   ],
   "source": [
    "over_log"
   ]
  },
  {
   "cell_type": "code",
   "execution_count": 42,
   "metadata": {},
   "outputs": [],
   "source": [
    "over_log.to_csv(\"mimic_synthetic_test.csv\")   #75.76"
   ]
  },
  {
   "cell_type": "code",
   "execution_count": 43,
   "metadata": {},
   "outputs": [],
   "source": [
    "#OTHER MODELS"
   ]
  },
  {
   "cell_type": "code",
   "execution_count": 44,
   "metadata": {},
   "outputs": [
    {
     "data": {
      "text/plain": [
       "SVC()"
      ]
     },
     "execution_count": 44,
     "metadata": {},
     "output_type": "execute_result"
    }
   ],
   "source": [
    "# Support Vector Machines\n",
    "from sklearn.svm import SVC\n",
    "from sklearn.model_selection import GridSearchCV\n",
    "\n",
    "\n",
    "svc = SVC()\n",
    "svc.fit(X, Y)"
   ]
  },
  {
   "cell_type": "code",
   "execution_count": 45,
   "metadata": {},
   "outputs": [
    {
     "name": "stdout",
     "output_type": "stream",
     "text": [
      "94.82\n"
     ]
    }
   ],
   "source": [
    "y_pred = svc.predict(x_test)\n",
    "acc_svm = round(accuracy_score(y_pred, y_test) * 100, 2)\n",
    "print(acc_svm)"
   ]
  },
  {
   "cell_type": "code",
   "execution_count": 46,
   "metadata": {},
   "outputs": [],
   "source": [
    "ty_pred_svm = svc.predict(ftest)"
   ]
  },
  {
   "cell_type": "code",
   "execution_count": 47,
   "metadata": {},
   "outputs": [
    {
     "name": "stdout",
     "output_type": "stream",
     "text": [
      "78.72\n"
     ]
    }
   ],
   "source": [
    "#Linear SVC\n",
    "from sklearn.svm import LinearSVC\n",
    "\n",
    "linear_svc = LinearSVC()\n",
    "linear_svc.fit(X, Y)\n",
    "\n",
    "y_pred_linSVC = linear_svc.predict(x_test)\n",
    "acc_linSVC = round(accuracy_score(y_pred_linSVC, y_test) * 100, 2)\n",
    "print(acc_linSVC)"
   ]
  },
  {
   "cell_type": "code",
   "execution_count": 48,
   "metadata": {},
   "outputs": [],
   "source": [
    "ty_pred_linSVC = svc.predict(ftest)"
   ]
  },
  {
   "cell_type": "code",
   "execution_count": 49,
   "metadata": {},
   "outputs": [
    {
     "name": "stdout",
     "output_type": "stream",
     "text": [
      "90.29\n"
     ]
    }
   ],
   "source": [
    "#Decision Tree\n",
    "from sklearn.tree import DecisionTreeClassifier\n",
    "\n",
    "decisiontree = DecisionTreeClassifier()\n",
    "decisiontree.fit(X, Y)\n",
    "\n",
    "y_pred_dtree = decisiontree.predict(x_test)\n",
    "acc_dtree = round(accuracy_score(y_pred_dtree, y_test) * 100, 2)\n",
    "print(acc_dtree)"
   ]
  },
  {
   "cell_type": "code",
   "execution_count": 50,
   "metadata": {},
   "outputs": [],
   "source": [
    "ty_pred_dtree = decisiontree.predict(ftest)"
   ]
  },
  {
   "cell_type": "code",
   "execution_count": null,
   "metadata": {},
   "outputs": [],
   "source": [
    "# Random Forest\n",
    "from sklearn.ensemble import RandomForestClassifier\n",
    "\n",
    "randomforest =  RandomForestClassifier(n_estimators = 1000, criterion = 'entropy', random_state = 0)\n",
    "randomforest.fit(X, Y)\n",
    "\n",
    "y_pred_rf = randomforest.predict(x_test)\n",
    "acc_rf = round(accuracy_score(y_pred_rf, y_test) * 100, 2)\n",
    "print(acc_rf)"
   ]
  },
  {
   "cell_type": "code",
   "execution_count": null,
   "metadata": {},
   "outputs": [],
   "source": [
    "ty_pred_rf = randomforest.predict(ftest)"
   ]
  },
  {
   "cell_type": "code",
   "execution_count": null,
   "metadata": {},
   "outputs": [],
   "source": [
    "# Gradient Boosting Classifier\n",
    "from sklearn.ensemble import GradientBoostingClassifier\n",
    "\n",
    "gbk = GradientBoostingClassifier()\n",
    "gbk.fit(X, Y)\n",
    "\n",
    "y_pred_gbk = gbk.predict(x_test)\n",
    "acc_gbk = round(accuracy_score(y_pred_gbk, y_test) * 100, 2)\n",
    "print(acc_gbk)"
   ]
  },
  {
   "cell_type": "code",
   "execution_count": null,
   "metadata": {},
   "outputs": [],
   "source": [
    "ty_pred_gbk = gbk.predict(ftest)"
   ]
  },
  {
   "cell_type": "code",
   "execution_count": null,
   "metadata": {},
   "outputs": [],
   "source": [
    "# Gaussian Naive Bayes\n",
    "from sklearn.naive_bayes import GaussianNB\n",
    "from sklearn.metrics import accuracy_score\n",
    "\n",
    "gaussian = GaussianNB()\n",
    "gaussian.fit(X, Y)\n",
    "\n",
    "y_pred_nb = gaussian.predict(x_test)\n",
    "acc_nb = round(accuracy_score(y_pred_nb, y_test) * 100, 2)\n",
    "print(acc_nb)"
   ]
  },
  {
   "cell_type": "code",
   "execution_count": null,
   "metadata": {},
   "outputs": [],
   "source": [
    "ty_pred_nb = gaussian.predict(ftest)"
   ]
  },
  {
   "cell_type": "code",
   "execution_count": null,
   "metadata": {},
   "outputs": [],
   "source": [
    "# Perceptron\n",
    "from sklearn.linear_model import Perceptron\n",
    "\n",
    "perceptron = Perceptron()\n",
    "perceptron.fit(X, Y)\n",
    "y_pred_ptron = perceptron.predict(x_test)\n",
    "acc_ptron = round(accuracy_score(y_pred_ptron, y_test) * 100, 2)\n",
    "print(acc_ptron)"
   ]
  },
  {
   "cell_type": "code",
   "execution_count": null,
   "metadata": {},
   "outputs": [],
   "source": [
    "ty_pred_ptron = perceptron.predict(ftest)"
   ]
  },
  {
   "cell_type": "code",
   "execution_count": null,
   "metadata": {},
   "outputs": [],
   "source": []
  },
  {
   "cell_type": "code",
   "execution_count": null,
   "metadata": {},
   "outputs": [],
   "source": []
  },
  {
   "cell_type": "code",
   "execution_count": null,
   "metadata": {},
   "outputs": [],
   "source": []
  }
 ],
 "metadata": {
  "kernelspec": {
   "display_name": "Python 3",
   "language": "python",
   "name": "python3"
  },
  "language_info": {
   "codemirror_mode": {
    "name": "ipython",
    "version": 3
   },
   "file_extension": ".py",
   "mimetype": "text/x-python",
   "name": "python",
   "nbconvert_exporter": "python",
   "pygments_lexer": "ipython3",
   "version": "3.7.4"
  }
 },
 "nbformat": 4,
 "nbformat_minor": 2
}
