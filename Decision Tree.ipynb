{
 "cells": [
  {
   "cell_type": "code",
   "execution_count": 1,
   "metadata": {},
   "outputs": [],
   "source": [
    "#to remove warnings\n",
    "import warnings\n",
    "warnings.filterwarnings('ignore')"
   ]
  },
  {
   "cell_type": "code",
   "execution_count": 2,
   "metadata": {},
   "outputs": [
    {
     "name": "stderr",
     "output_type": "stream",
     "text": [
      "C:\\Users\\B.K Goel\\Anaconda3\\lib\\site-packages\\sklearn\\externals\\joblib\\__init__.py:15: DeprecationWarning: sklearn.externals.joblib is deprecated in 0.21 and will be removed in 0.23. Please import this functionality directly from joblib, which can be installed with: pip install joblib. If this warning is raised when loading pickled models, you may need to re-serialize those models with scikit-learn 0.21+.\n",
      "  warnings.warn(msg, category=DeprecationWarning)\n"
     ]
    }
   ],
   "source": [
    "#importing all the important libraries\n",
    "import numpy as np\n",
    "import pandas as pd\n",
    "from sklearn.ensemble import RandomForestClassifier\n",
    "from sklearn.metrics import accuracy_score as acc\n",
    "from mlxtend.feature_selection import SequentialFeatureSelector as sfs\n",
    "import matplotlib.pyplot as plt\n",
    "import seaborn as sns"
   ]
  },
  {
   "cell_type": "code",
   "execution_count": 3,
   "metadata": {},
   "outputs": [],
   "source": [
    "#reading necessary files\n",
    "names = pd.read_table('mimic_synthetic_feat.name',sep='\\n',header=None)\n",
    "data = pd.read_table('mimic_synthetic_train.data',sep=' ',header=None)\n",
    "died = pd.read_table('mimic_synthetic_train.solution',sep='\\n',header=None)\n",
    "test = pd.read_table('mimic_synthetic_test.data' ,sep=' ' ,header=None)"
   ]
  },
  {
   "cell_type": "code",
   "execution_count": 4,
   "metadata": {},
   "outputs": [],
   "source": [
    "name_col = names[0].tolist() #converting the name row of excel to a list"
   ]
  },
  {
   "cell_type": "code",
   "execution_count": 5,
   "metadata": {},
   "outputs": [],
   "source": [
    "data.drop(0,axis=1,inplace=True) \n",
    "test.drop(0,axis=1,inplace=True)\n",
    "data.columns = name_col       #assigning column names\n",
    "test.columns =name_col"
   ]
  },
  {
   "cell_type": "code",
   "execution_count": null,
   "metadata": {},
   "outputs": [],
   "source": [
    "null_counts = test.isnull().sum()\n",
    "null_counts[null_counts > 0].sort_values(ascending=False)"
   ]
  },
  {
   "cell_type": "code",
   "execution_count": 6,
   "metadata": {},
   "outputs": [],
   "source": [
    "data[\"MARITAL_STATUS\"].fillna(\"MARRIED\", inplace = True) \n",
    "data[\"ICU\"].fillna(\"MICU\", inplace = True) \n",
    "data[\"LANGUAGE\"].fillna(\"ENGL\", inplace = True)\n",
    "test[\"LANGUAGE\"].fillna(\"ENGL\",inplace = True)"
   ]
  },
  {
   "cell_type": "code",
   "execution_count": null,
   "metadata": {},
   "outputs": [],
   "source": [
    "#columns headings to a different lists acc to their datatypes\n",
    "num_cols = []\n",
    "cat_col = []\n",
    "\n",
    "for cols in data.columns:\n",
    "    if data[cols].dtype == object:\n",
    "        cat_col.append(cols)\n",
    "    else:\n",
    "        num_cols.append(cols)"
   ]
  },
  {
   "cell_type": "code",
   "execution_count": 8,
   "metadata": {},
   "outputs": [],
   "source": [
    "#columns headings to a different lists acc to their datatypes\n",
    "tnum_cols = []\n",
    "tcat_col = []\n",
    "\n",
    "for cols in test.columns:\n",
    "    if test[cols].dtype == object:\n",
    "        tcat_col.append(cols)\n",
    "    else:\n",
    "        tnum_cols.append(cols)"
   ]
  },
  {
   "cell_type": "code",
   "execution_count": 9,
   "metadata": {},
   "outputs": [],
   "source": [
    "from sklearn.impute import SimpleImputer\n",
    "imputer = SimpleImputer(strategy='mean')\n",
    "data[num_cols] = imputer.fit_transform(data[num_cols])\n"
   ]
  },
  {
   "cell_type": "code",
   "execution_count": 10,
   "metadata": {},
   "outputs": [],
   "source": [
    "from sklearn.impute import SimpleImputer\n",
    "imputer = SimpleImputer(strategy='mean')\n",
    "test[tnum_cols] = imputer.fit_transform(test[tnum_cols])"
   ]
  },
  {
   "cell_type": "code",
   "execution_count": 11,
   "metadata": {},
   "outputs": [],
   "source": [
    "data.drop(['SUBJECT_ID', 'HADM_ID','ADMITTIME','DISCHTIME', 'LANGUAGE', 'RELIGION'], axis=1, inplace=True)\n",
    "test.drop(['SUBJECT_ID', 'HADM_ID','ADMITTIME','DISCHTIME', 'LANGUAGE', 'RELIGION'], axis=1, inplace=True)"
   ]
  },
  {
   "cell_type": "code",
   "execution_count": null,
   "metadata": {},
   "outputs": [],
   "source": [
    "for name_col in data.columns:\n",
    "    if data[name_col].dtypes == float:\n",
    "        unique_cat = len(data[name_col].unique())\n",
    "        print(\"Feature '{name_col}' has {unique_cat}' unqiue categories\".format(\n",
    "             name_col = name_col,unique_cat = unique_cat))"
   ]
  },
  {
   "cell_type": "code",
   "execution_count": null,
   "metadata": {},
   "outputs": [],
   "source": [
    "for name_col in data.columns:\n",
    "    if data[name_col].dtypes == 'object':\n",
    "        unique_cat = len(data[name_col].unique())\n",
    "        print(\"Feature '{name_col}' has {unique_cat}' unqiue categories\".format(\n",
    "             name_col = name_col,unique_cat = unique_cat))"
   ]
  },
  {
   "cell_type": "code",
   "execution_count": null,
   "metadata": {},
   "outputs": [],
   "source": [
    "for name_col in test.columns:\n",
    "    if data[name_col].dtypes == 'object':\n",
    "        unique_cat = len(test[name_col].unique())\n",
    "        print(\"Feature '{name_col}' has {unique_cat}' unqiue categories\".format(\n",
    "             name_col = name_col,unique_cat = unique_cat))"
   ]
  },
  {
   "cell_type": "code",
   "execution_count": 12,
   "metadata": {},
   "outputs": [],
   "source": [
    "data[\"ETHNICITY\"]= data[\"ETHNICITY\"].replace(\"UNKNOWN/NOT_SPECIFIED\", \"OTHER\")\n",
    "data[\"ETHNICITY\"]= data[\"ETHNICITY\"].replace(\"UNABLE_TO_OBTAIN\", \"OTHER\")\n",
    "data[\"ETHNICITY\"]= data[\"ETHNICITY\"].replace(\"PATIENT_DECLINED_TO_ANSWER\", \"OTHER\")\n",
    "data[\"ETHNICITY\"]= data[\"ETHNICITY\"].replace(\"AMERICAN_INDIAN/ALASKA_NATIVE_FEDERALLY_RECOGNIZED_TRIBE\", \"OTHER\")\n",
    "data[\"ETHNICITY\"]= data[\"ETHNICITY\"].replace(\"HISPANIC/LATINO_-_HONDURAN\", \"OTHER\")\n",
    "test[\"ETHNICITY\"]= test[\"ETHNICITY\"].replace(\"UNKNOWN/NOT_SPECIFIED\", \"OTHER\")\n",
    "test[\"ETHNICITY\"]= test[\"ETHNICITY\"].replace(\"UNABLE_TO_OBTAIN\", \"OTHER\")\n",
    "test[\"ETHNICITY\"]= test[\"ETHNICITY\"].replace(\"PATIENT_DECLINED_TO_ANSWER\", \"OTHER\")\n",
    "\n",
    "\n",
    "\n",
    "\n"
   ]
  },
  {
   "cell_type": "code",
   "execution_count": 13,
   "metadata": {},
   "outputs": [],
   "source": [
    "imp_ft = []\n",
    "for name_col in data.columns:\n",
    "    if data[name_col].dtypes == float:\n",
    "        unique_cat = len(data[name_col].unique())\n",
    "        if(unique_cat>1):\n",
    "            imp_ft.append(name_col)"
   ]
  },
  {
   "cell_type": "code",
   "execution_count": 14,
   "metadata": {},
   "outputs": [],
   "source": [
    "for name_col in data.columns:\n",
    "    if data[name_col].dtypes == 'object':\n",
    "        imp_ft.append(name_col)"
   ]
  },
  {
   "cell_type": "code",
   "execution_count": 15,
   "metadata": {},
   "outputs": [
    {
     "data": {
      "text/plain": [
       "162"
      ]
     },
     "execution_count": 15,
     "metadata": {},
     "output_type": "execute_result"
    }
   ],
   "source": [
    "len(imp_ft)"
   ]
  },
  {
   "cell_type": "code",
   "execution_count": 16,
   "metadata": {},
   "outputs": [],
   "source": [
    "fdata=data[imp_ft]"
   ]
  },
  {
   "cell_type": "code",
   "execution_count": 17,
   "metadata": {},
   "outputs": [],
   "source": [
    "ftest=test[imp_ft]"
   ]
  },
  {
   "cell_type": "code",
   "execution_count": 20,
   "metadata": {},
   "outputs": [],
   "source": [
    "Gender_mapping={'M':0,'F':1}                       # convert string to numeric\n",
    "fdata['GENDER']=fdata['GENDER'].map(Gender_mapping)\n",
    "ftest['GENDER']=ftest['GENDER'].map(Gender_mapping)\n"
   ]
  },
  {
   "cell_type": "code",
   "execution_count": 21,
   "metadata": {},
   "outputs": [],
   "source": [
    "fdata = pd.get_dummies(fdata)"
   ]
  },
  {
   "cell_type": "code",
   "execution_count": 22,
   "metadata": {},
   "outputs": [],
   "source": [
    "ftest = pd.get_dummies(fdata)"
   ]
  },
  {
   "cell_type": "code",
   "execution_count": 23,
   "metadata": {},
   "outputs": [],
   "source": [
    "from sklearn import preprocessing\n",
    "\n",
    "x = fdata.values #returns a numpy array\n",
    "min_max_scaler = preprocessing.MinMaxScaler()\n",
    "x_scaled = min_max_scaler.fit_transform(x)\n",
    "fdata = pd.DataFrame(x_scaled)\n",
    "\n",
    "x = ftest.values #returns a numpy array\n",
    "min_max_scaler = preprocessing.MinMaxScaler()\n",
    "x_scaled = min_max_scaler.fit_transform(x)\n",
    "ftest = pd.DataFrame(x_scaled)"
   ]
  },
  {
   "cell_type": "code",
   "execution_count": 24,
   "metadata": {},
   "outputs": [],
   "source": [
    "died.columns = ['DIED']\n",
    "fdata = pd.concat([fdata,died],axis=1)"
   ]
  },
  {
   "cell_type": "code",
   "execution_count": 25,
   "metadata": {},
   "outputs": [
    {
     "data": {
      "image/png": "[encoded data removed]",
      "text/plain": [
       "<Figure size 432x288 with 2 Axes>"
      ]
     },
     "metadata": {},
     "output_type": "display_data"
    }
   ],
   "source": [
    "#correlation matrix for numeric data\n",
    "import seaborn as sns\n",
    "corrmat = fdata.corr()\n",
    "k = 5 #number of variables for heatmap\n",
    "cols = corrmat.nlargest(k, \"DIED\")[\"DIED\"].index\n",
    "cm = np.corrcoef(fdata[cols].values.T)\n",
    "sns.set(font_scale=1.25)\n",
    "hm = sns.heatmap(cm, cbar=True, annot=True, square=True, fmt='.2f', annot_kws={'size': 10}, yticklabels=cols.values, xticklabels=cols.values)\n",
    "plt.show()\n",
    "\n",
    "# The following plot shows that the correlation values with the dependent variable is too low"
   ]
  },
  {
   "cell_type": "code",
   "execution_count": 26,
   "metadata": {},
   "outputs": [
    {
     "data": {
      "text/plain": [
       "87"
      ]
     },
     "execution_count": 26,
     "metadata": {},
     "output_type": "execute_result"
    }
   ],
   "source": [
    "## Correlation with dependent variable - First filter\n",
    "corr_with_DIED = fdata.corr()[\"DIED\"].copy()\n",
    "corr_with_DIED_abs = abs(corr_with_DIED).copy()  # Getting absolute of correlation values\n",
    "corr_with_DIED_abs = corr_with_DIED_abs.sort_values(ascending = False) # Setting them in descending order\n",
    "important_vars = [corr_with_DIED_abs.index[0]]\n",
    "correlation_target_table = pd.DataFrame({'attribute':corr_with_DIED_abs.index, 'list':corr_with_DIED_abs.values})\n",
    "\n",
    "# Selecting variables with >= 0.01 correlation with target variable \n",
    "correlation_target_selected_table = correlation_target_table[(correlation_target_table['list'] >= 0.01)]\n",
    "important_variables = correlation_target_selected_table['attribute']\n",
    "len(important_variables)"
   ]
  },
  {
   "cell_type": "code",
   "execution_count": 28,
   "metadata": {},
   "outputs": [],
   "source": [
    "important_variables.drop([0],inplace=True)   #dropping DIED temporarily"
   ]
  },
  {
   "cell_type": "code",
   "execution_count": 29,
   "metadata": {},
   "outputs": [],
   "source": [
    "imp_ft=important_variables.tolist()"
   ]
  },
  {
   "cell_type": "code",
   "execution_count": 30,
   "metadata": {},
   "outputs": [],
   "source": [
    "# Drops the non-important variables\n",
    "fdata = fdata[imp_ft]\n",
    "ftest = ftest[imp_ft]"
   ]
  },
  {
   "cell_type": "code",
   "execution_count": null,
   "metadata": {},
   "outputs": [],
   "source": [
    "died.columns = ['DIED']\n",
    "fdata = pd.concat([fdata,died],axis=1)"
   ]
  },
  {
   "cell_type": "code",
   "execution_count": 43,
   "metadata": {},
   "outputs": [],
   "source": [
    "X = fdata.iloc[:,:-1]         #Train data without output class\n",
    "Y = fdata.iloc[:,-1:]         #solution of train data"
   ]
  },
  {
   "cell_type": "code",
   "execution_count": null,
   "metadata": {},
   "outputs": [],
   "source": []
  },
  {
   "cell_type": "code",
   "execution_count": 46,
   "metadata": {},
   "outputs": [],
   "source": [
    "from sklearn.model_selection import train_test_split            #Split data into train & test data \n",
    "x_train, x_test, y_train, y_test = train_test_split(X, Y , test_size = 0.20, random_state = 100)"
   ]
  },
  {
   "cell_type": "code",
   "execution_count": 47,
   "metadata": {},
   "outputs": [
    {
     "name": "stderr",
     "output_type": "stream",
     "text": [
      "C:\\Users\\B.K Goel\\Anaconda3\\lib\\site-packages\\sklearn\\utils\\validation.py:724: DataConversionWarning: A column-vector y was passed when a 1d array was expected. Please change the shape of y to (n_samples, ), for example using ravel().\n",
      "  y = column_or_1d(y, warn=True)\n"
     ]
    }
   ],
   "source": [
    "from imblearn.over_sampling import SMOTE\n",
    "sm = SMOTE(random_state=12, ratio = 1.0)\n",
    "x_train_res, y_train_res = sm.fit_sample(x_train, y_train)"
   ]
  },
  {
   "cell_type": "code",
   "execution_count": 60,
   "metadata": {},
   "outputs": [
    {
     "name": "stdout",
     "output_type": "stream",
     "text": [
      "88.38\n"
     ]
    }
   ],
   "source": [
    "#Decision Tree\n",
    "from sklearn.tree import DecisionTreeClassifier\n",
    "\n",
    "decisiontree = DecisionTreeClassifier()\n",
    "decisiontree.fit(x_train_res, y_train_res)\n",
    "\n",
    "y_pred = decisiontree.predict(x_test)\n",
    "acc_logreg = round(accuracy_score(y_pred, y_test) * 100, 2)\n",
    "print(acc_logreg)"
   ]
  },
  {
   "cell_type": "code",
   "execution_count": 71,
   "metadata": {},
   "outputs": [],
   "source": [
    "ty_pred = decisiontree.predict(ftest)"
   ]
  },
  {
   "cell_type": "code",
   "execution_count": 72,
   "metadata": {},
   "outputs": [],
   "source": [
    "c = 0\n",
    "for i in ty_pred:\n",
    "    if i == 1:\n",
    "        c+=1"
   ]
  },
  {
   "cell_type": "code",
   "execution_count": 73,
   "metadata": {},
   "outputs": [
    {
     "data": {
      "text/plain": [
       "3755"
      ]
     },
     "execution_count": 73,
     "metadata": {},
     "output_type": "execute_result"
    }
   ],
   "source": [
    "c"
   ]
  },
  {
   "cell_type": "code",
   "execution_count": null,
   "metadata": {},
   "outputs": [],
   "source": [
    "ty_pred = pd.DataFrame(ty_pred)"
   ]
  },
  {
   "cell_type": "code",
   "execution_count": null,
   "metadata": {},
   "outputs": [],
   "source": [
    "ty_pred.to_csv(\"dectree.csv\")"
   ]
  }
 ],
 "metadata": {
  "kernelspec": {
   "display_name": "Python 3",
   "language": "python",
   "name": "python3"
  },
  "language_info": {
   "codemirror_mode": {
    "name": "ipython",
    "version": 3
   },
   "file_extension": ".py",
   "mimetype": "text/x-python",
   "name": "python",
   "nbconvert_exporter": "python",
   "pygments_lexer": "ipython3",
   "version": "3.7.4"
  }
 },
 "nbformat": 4,
 "nbformat_minor": 2
}
